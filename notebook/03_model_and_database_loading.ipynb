{
 "cells": [
  {
   "cell_type": "code",
   "execution_count": 1,
   "metadata": {},
   "outputs": [],
   "source": [
    "import io\n",
    "import os\n",
    "import random\n",
    "from pathlib import Path"
   ]
  },
  {
   "cell_type": "code",
   "execution_count": 2,
   "metadata": {},
   "outputs": [
    {
     "data": {
      "text/plain": [
       "'c:\\\\Users\\\\Asus\\\\Machine_learning\\\\LLM\\\\Projects\\\\BIRD_benchmark_SQL\\\\notebook'"
      ]
     },
     "execution_count": 2,
     "metadata": {},
     "output_type": "execute_result"
    }
   ],
   "source": [
    "%pwd"
   ]
  },
  {
   "cell_type": "code",
   "execution_count": 3,
   "metadata": {},
   "outputs": [],
   "source": [
    "os.chdir(\"../\")"
   ]
  },
  {
   "cell_type": "code",
   "execution_count": 4,
   "metadata": {},
   "outputs": [
    {
     "data": {
      "text/plain": [
       "'c:\\\\Users\\\\Asus\\\\Machine_learning\\\\LLM\\\\Projects\\\\BIRD_benchmark_SQL'"
      ]
     },
     "execution_count": 4,
     "metadata": {},
     "output_type": "execute_result"
    }
   ],
   "source": [
    "%pwd"
   ]
  },
  {
   "cell_type": "code",
   "execution_count": 5,
   "metadata": {},
   "outputs": [],
   "source": [
    "import os\n",
    "from Bird_bench_SQL import logger"
   ]
  },
  {
   "cell_type": "code",
   "execution_count": 6,
   "metadata": {},
   "outputs": [],
   "source": [
    "from pathlib import Path\n",
    "from typing import Optional\n",
    "from dataclasses import dataclass"
   ]
  },
  {
   "cell_type": "code",
   "execution_count": 7,
   "metadata": {},
   "outputs": [],
   "source": [
    "@dataclass(frozen=True)\n",
    "class DatabaseAndModelConfig:\n",
    "    SQLite_database_path    : str\n",
    "    Model_name              : str \n",
    "    temperature             : int \n",
    "    api_key                 : Optional[str]"
   ]
  },
  {
   "cell_type": "code",
   "execution_count": 8,
   "metadata": {},
   "outputs": [],
   "source": [
    "from dotenv import load_dotenv\n",
    "from Bird_bench_SQL.constants import *\n",
    "from Bird_bench_SQL.utils.common import read_yaml,create_directories\n",
    "from Bird_bench_SQL.config.configuration import ConfigurationManager"
   ]
  },
  {
   "cell_type": "code",
   "execution_count": 16,
   "metadata": {},
   "outputs": [],
   "source": [
    "class ConfigurationManager:\n",
    "    def __init__(self,\n",
    "                 config_filepath    = CONFIG_FILE_PATH,\n",
    "                 params_filepath    = PARAMS_FILE_PATH):\n",
    "        \n",
    "        self.config = read_yaml(config_filepath)\n",
    "        self.params = read_yaml(params_filepath)\n",
    "        create_directories([self.config.artifacts_root])\n",
    "\n",
    "    def get_database_and_model_config(self) -> DatabaseAndModelConfig:\n",
    "        config =  self.config.database_and_model\n",
    "        params = self.params \n",
    "        \n",
    "        logger.info('Database and model config initialized')\n",
    "        load_dotenv()\n",
    "        data_procesing_config = DatabaseAndModelConfig(SQLite_database_path = config.database_path,\n",
    "                                                       Model_name           = params.MODEL_NAME,\n",
    "                                                       temperature          = params.TEMPERATURE,\n",
    "                                                       api_key              = os.getenv(\"GROQ_API_KEY\")) \n",
    "        logger.info(\"database and model config finished\") \n",
    "        return data_procesing_config        \n"
   ]
  },
  {
   "cell_type": "code",
   "execution_count": 20,
   "metadata": {},
   "outputs": [
    {
     "name": "stdout",
     "output_type": "stream",
     "text": [
      "[2024-09-09 17:58:48,079: INFO: common: yaml file: config\\config.yaml loaded successfully]\n",
      "[2024-09-09 17:58:48,083: INFO: common: yaml file: params.yaml loaded successfully]\n",
      "[2024-09-09 17:58:48,083: INFO: common: created directory at: artifacts]\n",
      "[2024-09-09 17:58:48,083: INFO: 715277999: Database and model config initialized]\n",
      "[2024-09-09 17:58:48,090: INFO: 715277999: database and model config finished]\n"
     ]
    }
   ],
   "source": [
    "\n",
    "manager     = ConfigurationManager()\n",
    "config      = manager.get_database_and_model_config()"
   ]
  },
  {
   "cell_type": "code",
   "execution_count": 32,
   "metadata": {},
   "outputs": [],
   "source": [
    "database_path = Path(config.SQLite_database_path)\n",
    "query = \"SELECT T1.title FROM movie AS T1 INNER JOIN movie_keywords AS T2 ON T1.movie_id = T2.movie_id INNER JOIN keyword AS T3 ON T2.keyword_id = T3.keyword_id WHERE T3.keyword_name = 'extremis'\""
   ]
  },
  {
   "cell_type": "code",
   "execution_count": 19,
   "metadata": {},
   "outputs": [],
   "source": [
    "import os\n",
    "import sqlite3\n",
    "from langchain_groq import ChatGroq\n",
    "from sqlalchemy import create_engine\n",
    "from langchain_community.utilities import SQLDatabase"
   ]
  },
  {
   "cell_type": "code",
   "execution_count": 77,
   "metadata": {},
   "outputs": [],
   "source": [
    "class DatabaseAndModel:\n",
    "\n",
    "    def __init__(self,config = DatabaseAndModelConfig):\n",
    "        self.config = config\n",
    "\n",
    "    def database_and_model_setup(self):\n",
    "        logger.info(\"Model setup initialized\")\n",
    "        llm     = ChatGroq(model        = self.config.Model_name,\n",
    "                           temperature  = self.config.temperature,\n",
    "                           api_key      = self.config.api_key,)\n",
    "        \n",
    "        logger.info(f\"model----{(self.config.Model_name).split('/')[-1]}----created\")\n",
    "        conn    = sqlite3.connect(self.config.SQLite_database_path) \n",
    "        logger.info(f\"connection----{(self.config.SQLite_database_path).split('/')[-1]}----created\")\n",
    "\n",
    "        engine  = create_engine(f\"sqlite:///{self.config.SQLite_database_path}\")\n",
    "        logger.info(f\"engine----{(self.config.SQLite_database_path).split('/')[-1]}----created\")\n",
    "\n",
    "        db      = SQLDatabase(engine) \n",
    "        logger.info(f\"database----created\")\n",
    "        return llm,conn,db \n"
   ]
  },
  {
   "cell_type": "code",
   "execution_count": 78,
   "metadata": {},
   "outputs": [
    {
     "name": "stdout",
     "output_type": "stream",
     "text": [
      "[2024-09-09 18:49:57,638: INFO: common: yaml file: config\\config.yaml loaded successfully]\n",
      "[2024-09-09 18:49:57,640: INFO: common: yaml file: params.yaml loaded successfully]\n",
      "[2024-09-09 18:49:57,642: INFO: common: created directory at: artifacts]\n",
      "[2024-09-09 18:49:57,643: INFO: 715277999: Database and model config initialized]\n",
      "[2024-09-09 18:49:57,645: INFO: 715277999: database and model config finished]\n",
      "[2024-09-09 18:49:57,645: INFO: 3302737611: Model setup initialized]\n",
      "[2024-09-09 18:49:58,154: INFO: 3302737611: model----llama3-70b-8192----created]\n",
      "[2024-09-09 18:49:58,155: INFO: 3302737611: connection----movies_4.sqlite----created]\n",
      "[2024-09-09 18:49:58,156: INFO: 3302737611: engine----movies_4.sqlite----created]\n",
      "[2024-09-09 18:49:58,180: INFO: 3302737611: database----created]\n"
     ]
    }
   ],
   "source": [
    "try:\n",
    "    \n",
    "    manager             = ConfigurationManager()\n",
    "    config              = manager.get_database_and_model_config()\n",
    "    datamodel_and_model = DatabaseAndModel(config=config)\n",
    "    llm,conn,engine  = datamodel_and_model.database_and_model_setup()\n",
    "\n",
    "except Exception as e:\n",
    "    raise e"
   ]
  },
  {
   "cell_type": "code",
   "execution_count": null,
   "metadata": {},
   "outputs": [],
   "source": [
    " "
   ]
  },
  {
   "cell_type": "code",
   "execution_count": null,
   "metadata": {},
   "outputs": [],
   "source": []
  }
 ],
 "metadata": {
  "kernelspec": {
   "display_name": "llm_env",
   "language": "python",
   "name": "python3"
  },
  "language_info": {
   "codemirror_mode": {
    "name": "ipython",
    "version": 3
   },
   "file_extension": ".py",
   "mimetype": "text/x-python",
   "name": "python",
   "nbconvert_exporter": "python",
   "pygments_lexer": "ipython3",
   "version": "3.9.19"
  }
 },
 "nbformat": 4,
 "nbformat_minor": 2
}
