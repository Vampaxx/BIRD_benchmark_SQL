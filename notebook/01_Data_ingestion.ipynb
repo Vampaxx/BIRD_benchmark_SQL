{
 "cells": [
  {
   "cell_type": "code",
   "execution_count": 1,
   "metadata": {},
   "outputs": [],
   "source": [
    "import io\n",
    "import os\n",
    "import random\n",
    "from pathlib import Path"
   ]
  },
  {
   "cell_type": "code",
   "execution_count": 2,
   "metadata": {},
   "outputs": [
    {
     "data": {
      "text/plain": [
       "'c:\\\\Users\\\\Asus\\\\Machine_learning\\\\LLM\\\\Projects\\\\BIRD_benchmark_SQL\\\\notebook'"
      ]
     },
     "execution_count": 2,
     "metadata": {},
     "output_type": "execute_result"
    }
   ],
   "source": [
    "%pwd"
   ]
  },
  {
   "cell_type": "code",
   "execution_count": 3,
   "metadata": {},
   "outputs": [],
   "source": [
    "os.chdir(\"../\")"
   ]
  },
  {
   "cell_type": "code",
   "execution_count": 4,
   "metadata": {},
   "outputs": [
    {
     "data": {
      "text/plain": [
       "'c:\\\\Users\\\\Asus\\\\Machine_learning\\\\LLM\\\\Projects\\\\BIRD_benchmark_SQL'"
      ]
     },
     "execution_count": 4,
     "metadata": {},
     "output_type": "execute_result"
    }
   ],
   "source": [
    "%pwd"
   ]
  },
  {
   "cell_type": "code",
   "execution_count": 5,
   "metadata": {},
   "outputs": [],
   "source": [
    "import os\n",
    "import json \n",
    "from Bird_bench_SQL import logger"
   ]
  },
  {
   "cell_type": "code",
   "execution_count": 6,
   "metadata": {},
   "outputs": [],
   "source": [
    "from dataclasses import dataclass\n",
    "from pathlib import Path"
   ]
  },
  {
   "cell_type": "code",
   "execution_count": 39,
   "metadata": {},
   "outputs": [],
   "source": [
    "@dataclass(frozen=True)\n",
    "class DataIngestionConfig:\n",
    "    SQLite_URL      : str\n",
    "    SQLite_dir      : Path\n",
    "    SQLite_file     : Path\n",
    "    data_URL        : str \n",
    "    data_dir        : Path\n",
    "    data_file_path  : Path\n",
    "    train_file_path : Path\n",
    "    test_file_path  : Path\n",
    "    few_shots_path  : Path"
   ]
  },
  {
   "cell_type": "code",
   "execution_count": 40,
   "metadata": {},
   "outputs": [],
   "source": [
    "from Bird_bench_SQL.constants import *\n",
    "from Bird_bench_SQL.utils.common import read_yaml,create_directories"
   ]
  },
  {
   "cell_type": "code",
   "execution_count": 44,
   "metadata": {},
   "outputs": [],
   "source": [
    "class ConfigurationManager:\n",
    "    def __init__(self,\n",
    "                 config_filepath    = CONFIG_FILE_PATH,\n",
    "                 params_filepath    = PARAMS_FILE_PATH):\n",
    "        \n",
    "        self.config = read_yaml(config_filepath)\n",
    "        self.params = read_yaml(params_filepath)\n",
    "        create_directories([self.config.artifacts_root])\n",
    "\n",
    "    def get_data_ingestion_config(self)->DataIngestionConfig:\n",
    "\n",
    "        config      = self.config.data_ingestion\n",
    "        create_directories([config.SQLite_dir,config.data_dir])\n",
    "\n",
    "        data_ingestion_config= DataIngestionConfig(SQLite_URL       = config.SQLite_URL,\n",
    "                                                   SQLite_dir       = config.SQLite_dir,\n",
    "                                                   SQLite_file      = config.SQLite_file,\n",
    "                                                   data_URL         = config.data_URL,\n",
    "                                                   data_dir         = config.data_dir,\n",
    "                                                   data_file_path   = config.data_file_path,\n",
    "                                                   train_file_path  = config.train_file_path,\n",
    "                                                   test_file_path   = config.test_file_path,\n",
    "                                                   few_shots_path   = config.few_shots_path)\n",
    "        return data_ingestion_config"
   ]
  },
  {
   "cell_type": "code",
   "execution_count": 11,
   "metadata": {},
   "outputs": [],
   "source": [
    "from  urllib import request \n",
    "import zipfile"
   ]
  },
  {
   "cell_type": "code",
   "execution_count": 45,
   "metadata": {},
   "outputs": [
    {
     "name": "stdout",
     "output_type": "stream",
     "text": [
      "[2024-09-07 23:35:28,480: INFO: common: yaml file: config\\config.yaml loaded successfully]\n",
      "[2024-09-07 23:35:28,480: INFO: common: yaml file: params.yaml loaded successfully]\n",
      "[2024-09-07 23:35:28,480: INFO: common: created directory at: artifacts]\n",
      "[2024-09-07 23:35:28,480: INFO: common: created directory at: artifacts/SQLite_database]\n",
      "[2024-09-07 23:35:28,480: INFO: common: created directory at: artifacts/data]\n"
     ]
    }
   ],
   "source": [
    "manager = ConfigurationManager()\n",
    "manager_config = manager.get_data_ingestion_config()"
   ]
  },
  {
   "cell_type": "code",
   "execution_count": 46,
   "metadata": {},
   "outputs": [
    {
     "data": {
      "text/plain": [
       "'artifacts/data/train.json'"
      ]
     },
     "execution_count": 46,
     "metadata": {},
     "output_type": "execute_result"
    }
   ],
   "source": [
    "manager_config.data_file_path"
   ]
  },
  {
   "cell_type": "code",
   "execution_count": 43,
   "metadata": {},
   "outputs": [],
   "source": [
    "class DataIngestion:\n",
    "\n",
    "    def __init__(self,config = DataIngestionConfig):\n",
    "        self.config = config\n",
    "        \n",
    "    def download_file(self):\n",
    "\n",
    "        if not os.path.exists(self.config.SQLite_file):\n",
    "            logger.info(f\"Downloading SQLite file from {self.config.SQLite_URL} to {self.config.SQLite_dir}\")\n",
    "            filename, header = request.urlretrieve(url      = self.config.SQLite_URL, \n",
    "                                                   filename = self.config.SQLite_file)\n",
    "            logger.info(f\"{filename} downloaded with the following info: \\n{header}\")\n",
    "        else:\n",
    "            logger.info(f\"{self.config.SQLite_file} already exists, skipping download.\")\n",
    "\n",
    "        # Download data file if it doesn't exist\n",
    "        if not os.path.exists(self.config.data_file_path):\n",
    "            logger.info(f\"Downloading data file from {self.config.data_URL} to {self.config.data_dir}\")\n",
    "            filename, header = request.urlretrieve(url      = self.config.data_URL,\n",
    "                                                   filename = self.config.data_file_path)\n",
    "            logger.info(f\"{filename} downloaded with the following info: \\n{header}\")\n",
    "        else:\n",
    "            logger.info(f\"{self.config.data_dir} already exists, skipping download.\")"
   ]
  },
  {
   "cell_type": "code",
   "execution_count": 47,
   "metadata": {},
   "outputs": [
    {
     "name": "stdout",
     "output_type": "stream",
     "text": [
      "[2024-09-07 23:36:32,550: INFO: common: yaml file: config\\config.yaml loaded successfully]\n",
      "[2024-09-07 23:36:32,550: INFO: common: yaml file: params.yaml loaded successfully]\n",
      "[2024-09-07 23:36:32,550: INFO: common: created directory at: artifacts]\n",
      "[2024-09-07 23:36:32,559: INFO: common: created directory at: artifacts/SQLite_database]\n",
      "[2024-09-07 23:36:32,560: INFO: common: created directory at: artifacts/data]\n",
      "[2024-09-07 23:36:32,560: INFO: 3777581137: Downloading SQLite file from https://github.com/Vampaxx/BIRD_benchmark_SQL/blob/main/artifacts/movies_4.sqlite to artifacts/SQLite_database]\n",
      "[2024-09-07 23:36:33,440: INFO: 3777581137: artifacts/SQLite_database/movies_4.sqlite downloaded with the following info: \n",
      "Server: GitHub.com\n",
      "Date: Sat, 07 Sep 2024 18:06:32 GMT\n",
      "Content-Type: text/html; charset=utf-8\n",
      "Vary: X-PJAX, X-PJAX-Container, Turbo-Visit, Turbo-Frame, Accept-Encoding, Accept, X-Requested-With\n",
      "ETag: W/\"3343089f93c6d5f6059c0ccb579c7cec\"\n",
      "Cache-Control: max-age=0, private, must-revalidate\n",
      "Strict-Transport-Security: max-age=31536000; includeSubdomains; preload\n",
      "X-Frame-Options: deny\n",
      "X-Content-Type-Options: nosniff\n",
      "X-XSS-Protection: 0\n",
      "Referrer-Policy: no-referrer-when-downgrade\n",
      "Content-Security-Policy: default-src 'none'; base-uri 'self'; child-src github.com/assets-cdn/worker/ github.com/webpack/ github.com/assets/ gist.github.com/assets-cdn/worker/; connect-src 'self' uploads.github.com www.githubstatus.com collector.github.com raw.githubusercontent.com api.github.com github-cloud.s3.amazonaws.com github-production-repository-file-5c1aeb.s3.amazonaws.com github-production-upload-manifest-file-7fdce7.s3.amazonaws.com github-production-user-asset-6210df.s3.amazonaws.com *.rel.tunnels.api.visualstudio.com wss://*.rel.tunnels.api.visualstudio.com api.githubcopilot.com objects-origin.githubusercontent.com copilot-proxy.githubusercontent.com/v1/engines/github-completion/completions proxy.enterprise.githubcopilot.com/v1/engines/github-completion/completions *.actions.githubusercontent.com wss://*.actions.githubusercontent.com productionresultssa0.blob.core.windows.net/ productionresultssa1.blob.core.windows.net/ productionresultssa2.blob.core.windows.net/ productionresultssa3.blob.core.windows.net/ productionresultssa4.blob.core.windows.net/ productionresultssa5.blob.core.windows.net/ productionresultssa6.blob.core.windows.net/ productionresultssa7.blob.core.windows.net/ productionresultssa8.blob.core.windows.net/ productionresultssa9.blob.core.windows.net/ productionresultssa10.blob.core.windows.net/ productionresultssa11.blob.core.windows.net/ productionresultssa12.blob.core.windows.net/ productionresultssa13.blob.core.windows.net/ productionresultssa14.blob.core.windows.net/ productionresultssa15.blob.core.windows.net/ productionresultssa16.blob.core.windows.net/ productionresultssa17.blob.core.windows.net/ productionresultssa18.blob.core.windows.net/ productionresultssa19.blob.core.windows.net/ github-production-repository-image-32fea6.s3.amazonaws.com github-production-release-asset-2e65be.s3.amazonaws.com insights.github.com wss://alive.github.com; font-src github.githubassets.com; form-action 'self' github.com gist.github.com copilot-workspace.githubnext.com objects-origin.githubusercontent.com; frame-ancestors 'none'; frame-src viewscreen.githubusercontent.com notebooks.githubusercontent.com; img-src 'self' data: blob: github.githubassets.com media.githubusercontent.com camo.githubusercontent.com identicons.github.com avatars.githubusercontent.com github-cloud.s3.amazonaws.com objects.githubusercontent.com secured-user-images.githubusercontent.com/ user-images.githubusercontent.com/ private-user-images.githubusercontent.com opengraph.githubassets.com github-production-user-asset-6210df.s3.amazonaws.com customer-stories-feed.github.com spotlights-feed.github.com objects-origin.githubusercontent.com *.githubusercontent.com; manifest-src 'self'; media-src github.com user-images.githubusercontent.com/ secured-user-images.githubusercontent.com/ private-user-images.githubusercontent.com github-production-user-asset-6210df.s3.amazonaws.com gist.github.com; script-src github.githubassets.com; style-src 'unsafe-inline' github.githubassets.com; upgrade-insecure-requests; worker-src github.com/assets-cdn/worker/ github.com/webpack/ github.com/assets/ gist.github.com/assets-cdn/worker/\n",
      "Set-Cookie: _gh_sess=0AehVcdIYgVTw4KAiTlAcpuHxRrJNzWUw5rq7tlQn1XDrPlDbDCuzQSdQ6yHyhaRLMwdrxedoMavYSuplbVu49%2BWIuaXSKMmdznPohOSP14LUj7BqF1TCYewYrpJ7%2BIV91odvhiXs%2FR5vwOYVWKRpU3G0s%2BVxk6FwNukp7XfuLcEhBF8zbmm76TexpCFYe8dhvtpA4OzxdeAR1dBn5nNFbuGy0ssHu4Sko%2BHAc7tX8CyDiWy33VtWd9G5MO2fWPhbYmDbcUBX2pWZdILrWV9nw%3D%3D--oOtcCdP61Bt6kMSr--Vd4zcQLRsYXyGX3454%2BAeg%3D%3D; Path=/; HttpOnly; Secure; SameSite=Lax\n",
      "Set-Cookie: _octo=GH1.1.247113817.1725732392; Path=/; Domain=github.com; Expires=Sun, 07 Sep 2025 18:06:32 GMT; Secure; SameSite=Lax\n",
      "Set-Cookie: logged_in=no; Path=/; Domain=github.com; Expires=Sun, 07 Sep 2025 18:06:32 GMT; HttpOnly; Secure; SameSite=Lax\n",
      "Accept-Ranges: bytes\n",
      "Transfer-Encoding: chunked\n",
      "X-GitHub-Request-Id: 0D21:1C3EEF:410D403:47B2C7B:66DC9628\n",
      "connection: close\n",
      "\n",
      "]\n",
      "[2024-09-07 23:36:33,440: INFO: 3777581137: Downloading data file from https://github.com/Vampaxx/BIRD_benchmark_SQL/blob/main/artifacts/train.json to artifacts/data]\n",
      "[2024-09-07 23:36:34,337: INFO: 3777581137: artifacts/data/train.json downloaded with the following info: \n",
      "Server: GitHub.com\n",
      "Date: Sat, 07 Sep 2024 18:06:33 GMT\n",
      "Content-Type: text/html; charset=utf-8\n",
      "Vary: X-PJAX, X-PJAX-Container, Turbo-Visit, Turbo-Frame, Accept-Encoding, Accept, X-Requested-With\n",
      "ETag: W/\"8af0d2a2d9b14c25402de443a6e8fa68\"\n",
      "Cache-Control: max-age=0, private, must-revalidate\n",
      "Strict-Transport-Security: max-age=31536000; includeSubdomains; preload\n",
      "X-Frame-Options: deny\n",
      "X-Content-Type-Options: nosniff\n",
      "X-XSS-Protection: 0\n",
      "Referrer-Policy: no-referrer-when-downgrade\n",
      "Content-Security-Policy: default-src 'none'; base-uri 'self'; child-src github.com/assets-cdn/worker/ github.com/webpack/ github.com/assets/ gist.github.com/assets-cdn/worker/; connect-src 'self' uploads.github.com www.githubstatus.com collector.github.com raw.githubusercontent.com api.github.com github-cloud.s3.amazonaws.com github-production-repository-file-5c1aeb.s3.amazonaws.com github-production-upload-manifest-file-7fdce7.s3.amazonaws.com github-production-user-asset-6210df.s3.amazonaws.com *.rel.tunnels.api.visualstudio.com wss://*.rel.tunnels.api.visualstudio.com api.githubcopilot.com objects-origin.githubusercontent.com copilot-proxy.githubusercontent.com/v1/engines/github-completion/completions proxy.enterprise.githubcopilot.com/v1/engines/github-completion/completions *.actions.githubusercontent.com wss://*.actions.githubusercontent.com productionresultssa0.blob.core.windows.net/ productionresultssa1.blob.core.windows.net/ productionresultssa2.blob.core.windows.net/ productionresultssa3.blob.core.windows.net/ productionresultssa4.blob.core.windows.net/ productionresultssa5.blob.core.windows.net/ productionresultssa6.blob.core.windows.net/ productionresultssa7.blob.core.windows.net/ productionresultssa8.blob.core.windows.net/ productionresultssa9.blob.core.windows.net/ productionresultssa10.blob.core.windows.net/ productionresultssa11.blob.core.windows.net/ productionresultssa12.blob.core.windows.net/ productionresultssa13.blob.core.windows.net/ productionresultssa14.blob.core.windows.net/ productionresultssa15.blob.core.windows.net/ productionresultssa16.blob.core.windows.net/ productionresultssa17.blob.core.windows.net/ productionresultssa18.blob.core.windows.net/ productionresultssa19.blob.core.windows.net/ github-production-repository-image-32fea6.s3.amazonaws.com github-production-release-asset-2e65be.s3.amazonaws.com insights.github.com wss://alive.github.com; font-src github.githubassets.com; form-action 'self' github.com gist.github.com copilot-workspace.githubnext.com objects-origin.githubusercontent.com; frame-ancestors 'none'; frame-src viewscreen.githubusercontent.com notebooks.githubusercontent.com; img-src 'self' data: blob: github.githubassets.com media.githubusercontent.com camo.githubusercontent.com identicons.github.com avatars.githubusercontent.com github-cloud.s3.amazonaws.com objects.githubusercontent.com secured-user-images.githubusercontent.com/ user-images.githubusercontent.com/ private-user-images.githubusercontent.com opengraph.githubassets.com github-production-user-asset-6210df.s3.amazonaws.com customer-stories-feed.github.com spotlights-feed.github.com objects-origin.githubusercontent.com *.githubusercontent.com; manifest-src 'self'; media-src github.com user-images.githubusercontent.com/ secured-user-images.githubusercontent.com/ private-user-images.githubusercontent.com github-production-user-asset-6210df.s3.amazonaws.com gist.github.com; script-src github.githubassets.com; style-src 'unsafe-inline' github.githubassets.com; upgrade-insecure-requests; worker-src github.com/assets-cdn/worker/ github.com/webpack/ github.com/assets/ gist.github.com/assets-cdn/worker/\n",
      "Set-Cookie: _gh_sess=wwP1CKhkJRqVnv5uuCUXWJ%2BYpk3rETrqytxSH8fjPT4OBX0SaH0R5tWg%2Br2gJ82DWtoPt%2FzxDEN7Evs45G2vrDYMVAZcyyv5Ukxnw2Zt%2FN%2B1pNzu6gTYyJ9C9i1dnQ6sv6kGTxCZgUlCxZZux04hZLMYF%2BBXFhmfhGgGYMVrYMeUxMb0vFaXySfBE%2BsGLgBOf3EpMRDrpvxizSokbCz54k9DRf9%2By%2BFjhtg2C70%2FM1WtJHnst1U5mdj313SN4bTgFiPFO7WgqAtMpo5N4b2yHA%3D%3D--a18Im6fxqA4OyEI%2F--ecK2cIPwxuhCCeOOUyhenw%3D%3D; Path=/; HttpOnly; Secure; SameSite=Lax\n",
      "Set-Cookie: _octo=GH1.1.1909446269.1725732392; Path=/; Domain=github.com; Expires=Sun, 07 Sep 2025 18:06:32 GMT; Secure; SameSite=Lax\n",
      "Set-Cookie: logged_in=no; Path=/; Domain=github.com; Expires=Sun, 07 Sep 2025 18:06:32 GMT; HttpOnly; Secure; SameSite=Lax\n",
      "Accept-Ranges: bytes\n",
      "Transfer-Encoding: chunked\n",
      "X-GitHub-Request-Id: 0D22:1CFC94:40EC7D5:477277D:66DC9628\n",
      "connection: close\n",
      "\n",
      "]\n"
     ]
    }
   ],
   "source": [
    "try:\n",
    "    config                  = ConfigurationManager()\n",
    "    data_ingestion_config   = config.get_data_ingestion_config()\n",
    "    data_ingestion          = DataIngestion(config=data_ingestion_config)\n",
    "    data_ingestion.download_file()\n",
    "\n",
    "except Exception as e:\n",
    "    raise e"
   ]
  }
 ],
 "metadata": {
  "kernelspec": {
   "display_name": "llm_env",
   "language": "python",
   "name": "python3"
  },
  "language_info": {
   "codemirror_mode": {
    "name": "ipython",
    "version": 3
   },
   "file_extension": ".py",
   "mimetype": "text/x-python",
   "name": "python",
   "nbconvert_exporter": "python",
   "pygments_lexer": "ipython3",
   "version": "3.9.19"
  }
 },
 "nbformat": 4,
 "nbformat_minor": 2
}
