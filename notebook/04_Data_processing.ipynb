{
 "cells": [
  {
   "cell_type": "code",
   "execution_count": 1,
   "metadata": {},
   "outputs": [],
   "source": [
    "import io\n",
    "import os\n",
    "import random\n",
    "from pathlib import Path"
   ]
  },
  {
   "cell_type": "code",
   "execution_count": 2,
   "metadata": {},
   "outputs": [
    {
     "data": {
      "text/plain": [
       "'c:\\\\Users\\\\Asus\\\\Machine_learning\\\\LLM\\\\Projects\\\\BIRD_benchmark_SQL\\\\notebook'"
      ]
     },
     "execution_count": 2,
     "metadata": {},
     "output_type": "execute_result"
    }
   ],
   "source": [
    "%pwd"
   ]
  },
  {
   "cell_type": "code",
   "execution_count": 3,
   "metadata": {},
   "outputs": [],
   "source": [
    "os.chdir(\"../\")"
   ]
  },
  {
   "cell_type": "code",
   "execution_count": 4,
   "metadata": {},
   "outputs": [
    {
     "data": {
      "text/plain": [
       "'c:\\\\Users\\\\Asus\\\\Machine_learning\\\\LLM\\\\Projects\\\\BIRD_benchmark_SQL'"
      ]
     },
     "execution_count": 4,
     "metadata": {},
     "output_type": "execute_result"
    }
   ],
   "source": [
    "%pwd"
   ]
  },
  {
   "cell_type": "code",
   "execution_count": 5,
   "metadata": {},
   "outputs": [],
   "source": [
    "from Bird_bench_SQL import logger"
   ]
  },
  {
   "cell_type": "code",
   "execution_count": 6,
   "metadata": {},
   "outputs": [],
   "source": [
    "from dataclasses import dataclass\n",
    "from pathlib import Path"
   ]
  },
  {
   "cell_type": "code",
   "execution_count": 7,
   "metadata": {},
   "outputs": [],
   "source": [
    "@dataclass(frozen=True)\n",
    "class DataProcessingConfig:\n",
    "    data_file_path      : Path\n",
    "    train_file_path     : Path\n",
    "    test_file_path      : Path\n",
    "    few_shot_file_path  : Path\n",
    "    few_shot_file_size  : int \n",
    "    k                   : int \n",
    "    db_id_name          : str\n",
    "    embedding_model     : str \n"
   ]
  },
  {
   "cell_type": "code",
   "execution_count": 8,
   "metadata": {},
   "outputs": [],
   "source": [
    "from Bird_bench_SQL.constants import *\n",
    "from Bird_bench_SQL.utils.common import read_yaml,create_directories\n",
    "from Bird_bench_SQL.config.configuration import ConfigurationManager"
   ]
  },
  {
   "cell_type": "code",
   "execution_count": 9,
   "metadata": {},
   "outputs": [],
   "source": [
    "from dotenv import load_dotenv\n",
    "from Bird_bench_SQL.entity.config_entity import DatabaseAndModelConfig"
   ]
  },
  {
   "cell_type": "code",
   "execution_count": 10,
   "metadata": {},
   "outputs": [],
   "source": [
    "class ConfigurationManager:\n",
    "    def __init__(self,\n",
    "                 config_filepath    = CONFIG_FILE_PATH,\n",
    "                 params_filepath    = PARAMS_FILE_PATH):\n",
    "        \n",
    "        self.config = read_yaml(config_filepath)\n",
    "        self.params = read_yaml(params_filepath)\n",
    "        create_directories([self.config.artifacts_root])\n",
    "\n",
    "    def get_database_and_model_config(self) -> DatabaseAndModelConfig:\n",
    "        config = self.config.database_and_model\n",
    "        params = self.params \n",
    "        \n",
    "        logger.info('Database and model config initialized')\n",
    "        load_dotenv()\n",
    "        data_procesing_config = DatabaseAndModelConfig(SQLite_database_path = config.database_path,\n",
    "                                                       Model_name           = params.MODEL_NAME,\n",
    "                                                       temperature          = params.TEMPERATURE,\n",
    "                                                       api_key              = os.getenv(\"GROQ_API_KEY\")) \n",
    "        logger.info(\"database and model config finished\") \n",
    "        return data_procesing_config    \n",
    "    \n",
    "        \n",
    "\n",
    "    def get_data_processing_config(self) -> DataProcessingConfig:\n",
    "        config =  self.config.data_processing\n",
    "        params = self.params \n",
    "        logger.info('Data preprocessing config initialized')\n",
    "        data_procesing_config = DataProcessingConfig(data_file_path     = config.data_file_path,\n",
    "                                                     train_file_path    = config.train_file_path,\n",
    "                                                     test_file_path     = config.test_file_path,\n",
    "                                                     few_shot_file_path = config.few_shots_path,\n",
    "                                                     few_shot_file_size = params.FEW_SHOTS_SIZE,\n",
    "                                                     db_id_name         = params.db_id,\n",
    "                                                     k                  = params.K,\n",
    "                                                     embedding_model    = params.EMBEDDING_MDOEL\n",
    "                                                     )\n",
    "        logger.info('Data preprocessing config finished')\n",
    "        return data_procesing_config        \n"
   ]
  },
  {
   "cell_type": "code",
   "execution_count": 11,
   "metadata": {},
   "outputs": [
    {
     "name": "stdout",
     "output_type": "stream",
     "text": [
      "[2024-09-10 13:12:36,817: INFO: common: yaml file: config\\config.yaml loaded successfully]\n",
      "[2024-09-10 13:12:36,818: INFO: common: yaml file: params.yaml loaded successfully]\n",
      "[2024-09-10 13:12:36,818: INFO: common: created directory at: artifacts]\n",
      "[2024-09-10 13:12:36,818: INFO: 1897769260: Data preprocessing config initialized]\n",
      "[2024-09-10 13:12:36,818: INFO: 1897769260: Data preprocessing config finished]\n",
      "[2024-09-10 13:12:36,826: INFO: 1897769260: Database and model config initialized]\n",
      "[2024-09-10 13:12:36,830: INFO: 1897769260: database and model config finished]\n"
     ]
    }
   ],
   "source": [
    "manager             = ConfigurationManager()\n",
    "processing_config   = manager.get_data_processing_config()\n",
    "model_config        = manager.get_database_and_model_config()\n",
    "\n",
    "\n",
    "train_path          = processing_config.train_file_path\n",
    "test_path           = processing_config.test_file_path"
   ]
  },
  {
   "cell_type": "code",
   "execution_count": 12,
   "metadata": {},
   "outputs": [],
   "source": [
    "import random\n",
    "from Bird_bench_SQL.utils.common import load_json,save_json\n",
    "from Bird_bench_SQL.components.database_and_model import DatabaseAndModel\n",
    "from Bird_bench_SQL.entity.config_entity import DatabaseAndModelConfig\n",
    "\n",
    "from langchain.vectorstores import Chroma\n",
    "from langchain.embeddings import HuggingFaceEmbeddings\n",
    "from langchain.prompts import SemanticSimilarityExampleSelector"
   ]
  },
  {
   "cell_type": "code",
   "execution_count": 13,
   "metadata": {},
   "outputs": [],
   "source": [
    "class DataProcessing(DatabaseAndModel):\n",
    "\n",
    "    def __init__(self,processing_config : DataProcessingConfig,model_config:DatabaseAndModelConfig):\n",
    "        super().__init__(model_config)\n",
    "        self.processing_config          = processing_config\n",
    "        self.llm, self.conn, self.db    = self.database_and_model_setup()\n",
    "\n",
    "    def data_processing(self): \n",
    "        if  os.path.exists(self.processing_config.few_shot_file_path):\n",
    "            os.remove(self.processing_config.few_shot_file_path)\n",
    "            logger.info(f\"{self.processing_config.few_shot_file_path} has been deleted.\")\n",
    "        else:\n",
    "            pass \n",
    "\n",
    "        if not os.path.exists(self.processing_config.few_shot_file_path):\n",
    "            \n",
    "            logger.info(f\"Data processing has started\")\n",
    "            data_file   = self.processing_config.data_file_path\n",
    "            train_data  = self.processing_config.train_file_path\n",
    "            data_file   = load_json(train_data)\n",
    "            logger.info(f\"{data_file} has loaded succesfully completed\")\n",
    "\n",
    "            conn = self.conn \n",
    "            cursor  = conn.cursor() \n",
    "            logger.info(\"----added cursor----\")\n",
    "            #datas = load_json(train_path)\n",
    "\n",
    "            for data in data_file: # datas\n",
    "                results         = cursor.execute(data.SQL)\n",
    "                data['Answer']  = \",\".join([str(ans[0]) for ans in results])\n",
    "            conn.close()\n",
    "            logger.info(\"----database closeed----\")\n",
    "            logger.info(\"----Data alternation started----\")\n",
    "            \n",
    "            random.shuffle(data_file) # datas\n",
    "            few_shots       = random.sample(data_file,self.processing_config.few_shot_file_size) # datas\n",
    "            logger.info(f\"----Pick {self.processing_config.few_shot_file_size} Random samples from dataset----\")\n",
    "\n",
    "            logger.info(f\"----Data alternation of few shots started----\")\n",
    "            few_shots_data  = []\n",
    "            for item in few_shots:\n",
    "                new_item = {\n",
    "                    \"Question\"  : f\"{item['question']} ==>> {item['evidence']}\",\n",
    "                    \"SQLQuery\"  : item['SQL'],\n",
    "                    \"SQLResult\" : \"Result of the SQL query\",  # Placeholder for the actual SQL result if needed\n",
    "                    \"Answer\"    : item['Answer']\n",
    "                }\n",
    "                few_shots_data.append(new_item)\n",
    "            logger.info(f\"----Data alternation of few shots completed----\")\n",
    "            save_json(path  = self.processing_config.few_shot_file_path,\n",
    "                      data  = few_shots_data)\n",
    "            print(few_shots_data) \n",
    "        else:\n",
    "            logger.info(f\"{self.processing_config.few_shot_file_path} file is already present\")\n",
    "\n",
    "\n",
    "    def sematic_similarity_example_selector(self):\n",
    "        logger.info(f\"Sematic similarity example selector begin\") \n",
    "        embeddings    = HuggingFaceEmbeddings(model_name=self.processing_config.embedding_model)\n",
    "        logger.info(f\"----Embedding model----{self.processing_config.embedding_model}----setup successfully completed\") \n",
    "        to_vectorize  = [' '.join(sent.values()) for sent in load_json(self.processing_config.few_shot_file_path)]\n",
    "        logger.info(f\"----loaded few_shot-data from----{self.processing_config.few_shot_file_path}----\") \n",
    "        vectorstore   = Chroma.from_texts(to_vectorize,embeddings,metadatas=load_json(self.processing_config.few_shot_file_path))\n",
    "        logger.info(\"----successfully completed vectorstore----\")\n",
    "\n",
    "        example_selector = SemanticSimilarityExampleSelector(vectorstore  = vectorstore,k= self.processing_config.k,)\n",
    "        return example_selector\n",
    "  "
   ]
  },
  {
   "cell_type": "code",
   "execution_count": 14,
   "metadata": {},
   "outputs": [
    {
     "name": "stdout",
     "output_type": "stream",
     "text": [
      "[2024-09-10 13:12:38,735: INFO: common: yaml file: config\\config.yaml loaded successfully]\n",
      "[2024-09-10 13:12:38,743: INFO: common: yaml file: params.yaml loaded successfully]\n",
      "[2024-09-10 13:12:38,746: INFO: common: created directory at: artifacts]\n",
      "[2024-09-10 13:12:38,746: INFO: 1897769260: Database and model config initialized]\n",
      "[2024-09-10 13:12:38,749: INFO: 1897769260: database and model config finished]\n",
      "[2024-09-10 13:12:38,749: INFO: 1897769260: Data preprocessing config initialized]\n",
      "[2024-09-10 13:12:38,753: INFO: 1897769260: Data preprocessing config finished]\n",
      "[2024-09-10 13:12:38,753: INFO: database_and_model: Model setup initialized]\n",
      "[2024-09-10 13:12:39,992: INFO: database_and_model: model----llama3-70b-8192----created]\n",
      "[2024-09-10 13:12:40,000: INFO: database_and_model: connection----movies_4.sqlite----created]\n",
      "[2024-09-10 13:12:40,015: INFO: database_and_model: engine----movies_4.sqlite----created]\n",
      "[2024-09-10 13:12:40,073: INFO: database_and_model: database----created]\n",
      "[2024-09-10 13:12:40,073: INFO: 4210093409: artifacts/data/few_shots.json has been deleted.]\n",
      "[2024-09-10 13:12:40,073: INFO: 4210093409: Data processing has started]\n",
      "[2024-09-10 13:12:40,073: INFO: common: json file loaded succesfully from: artifacts/data/train_data.json]\n",
      "[2024-09-10 13:12:40,086: INFO: 4210093409: [ConfigBox({'db_id': 'movies_4', 'question': 'What is the original language of the movie with the tagline \"An offer you can\\'t refuse.\"?', 'evidence': \"language refers to language_name; original language refers to language_role = 'Original'\", 'SQL': \"SELECT T3.language_name FROM movie AS T1 INNER JOIN movie_languages AS T2 ON T1.movie_id = T2.movie_id INNER JOIN language AS T3 ON T2.language_id = T3.language_id INNER JOIN language_role AS T4 ON T2.language_role_id = T4.role_id WHERE T4.language_role = 'Original' AND T1.tagline LIKE 'An offer you can%t refuse.'\"}), ConfigBox({'db_id': 'movies_4', 'question': 'In Movie No. 19, how many people are there in Department No. 7? Please give me their job.', 'evidence': 'Movie No. 19 refers to movie_id = 19; Department No. 7 refers to department_id = 7', 'SQL': 'SELECT COUNT(DISTINCT job) FROM movie_crew WHERE movie_id = 19 AND department_id = 7'}), ConfigBox({'db_id': 'movies_4', 'question': 'How many movies did Universal Studios release?', 'evidence': \"Universal Studios refers to company_name = 'Universal Studios'\", 'SQL': \"SELECT COUNT(T2.movie_id) FROM production_company AS T1 INNER JOIN movie_company AS T2 ON T1.company_id = T2.company_id WHERE T1.company_name = 'Universal Studios'\"}), ConfigBox({'db_id': 'movies_4', 'question': 'For the movie \"Land of the Dead\", who is its director?', 'evidence': '\"Land of the Dead\" refers to title = \\'Land of the Dead\\'; director refers to person_name where job = \\'Director\\'', 'SQL': \"SELECT T3.person_name FROM movie AS T1 INNER JOIN movie_crew AS T2 ON T1.movie_id = T2.movie_id INNER JOIN person AS T3 ON T2.person_id = T3.person_id WHERE T1.title = 'Land of the Dead' AND T2.job = 'Director'\"}), ConfigBox({'db_id': 'movies_4', 'question': 'How many movies were produced in Canada?', 'evidence': \"produced in Canada refers to country_name = 'Canada'\", 'SQL': \"SELECT COUNT(T2.movie_id) FROM COUNTry AS T1 INNER JOIN production_COUNTry AS T2 ON T1.COUNTry_id = T2.COUNTry_id WHERE T1.COUNTry_name = 'Canada'\"}), ConfigBox({'db_id': 'movies_4', 'question': 'Which actor plays Optimus Prime?', 'evidence': \"Which actor refers to person_name; Optimus Prime refers to character_name = 'Optimus Prime (voice)'\", 'SQL': \"SELECT DISTINCT T1.person_name FROM person AS T1 INNER JOIN movie_cast AS T2 ON T1.person_id = T2.person_id WHERE T2.character_name = 'Optimus Prime (voice)'\"}), ConfigBox({'db_id': 'movies_4', 'question': 'Provide the genre of a movie title with a tagline of \"A long time ago in a galaxy far, far away…\".', 'evidence': 'genre refers to genre_name; tagline of \"A long time ago in a galaxy far, far away…\" refers to tagline = \\'A long time ago in a galaxy far, far away…\\'', 'SQL': \"SELECT T3.genre_name FROM movie AS T1 INNER JOIN movie_genres AS T2 ON T1.movie_id = T2.movie_id INNER JOIN genre AS T3 ON T3.genre_id = T2.genre_id WHERE T1.tagline = 'A long time ago in a galaxy far, far away...'\"}), ConfigBox({'db_id': 'movies_4', 'question': 'What is the title of the movie with the most keywords?', 'evidence': 'most keywords refers to max(count(keyword_id))', 'SQL': 'SELECT T1.title FROM movie AS T1 INNER JOIN movie_keywords AS T2 ON T1.movie_id = T2.movie_id GROUP BY T1.title ORDER BY COUNT(T2.keyword_id) DESC LIMIT 1'}), ConfigBox({'db_id': 'movies_4', 'question': 'What is the original language of the \"Four Rooms\" movie?', 'evidence': 'language refers to language_name; original language refers to language_role = \\'Original\\'; \"Four Rooms\" refers to title = \\'Four Rooms\\'', 'SQL': \"SELECT T3.language_name FROM movie AS T1 INNER JOIN movie_languages AS T2 ON T1.movie_id = T2.movie_id INNER JOIN language AS T3 ON T2.language_id = T3.language_id INNER JOIN language_role AS T4 ON T2.language_role_id = T4.role_id WHERE T4.language_role = 'Original' AND T1.title = 'Four Rooms'\"}), ConfigBox({'db_id': 'movies_4', 'question': \"Which movie has the keyword 'extremis?'\", 'evidence': \"Which movie refers to title; keyword 'extremis' refers to keyword_name = 'extremis'\", 'SQL': \"SELECT T1.title FROM movie AS T1 INNER JOIN movie_keywords AS T2 ON T1.movie_id = T2.movie_id INNER JOIN keyword AS T3 ON T2.keyword_id = T3.keyword_id WHERE T3.keyword_name = 'extremis'\"}), ConfigBox({'db_id': 'movies_4', 'question': 'Provide the titles and revenues of the movies produced by the DreamWorks company.', 'evidence': \"produced by the DreamWorks company refers to company_name = 'DreamWorks'\", 'SQL': \"SELECT T1.title, T1.revenue FROM movie AS T1 INNER JOIN movie_company AS T2 ON T1.movie_id = T2.movie_id INNER JOIN production_company AS T3 ON T2.company_id = T3.company_id WHERE T3.company_name = 'DreamWorks'\"}), ConfigBox({'db_id': 'movies_4', 'question': 'How many movies have made at least 1 Billion at the box office?', 'evidence': 'have made at least 1 Billion at the box office refers to revenue > 1000000000', 'SQL': 'SELECT COUNT(movie_id) FROM movie WHERE revenue > 1000000000'}), ConfigBox({'db_id': 'movies_4', 'question': \"Among Warner Bros. Pictures' movies, which title made the highest revenue?\", 'evidence': \"Warner Bros. Pictures' movies refers to company_name = 'Warner Bros. Pictures'; highest revenue refers to max(revenue)\", 'SQL': \"SELECT T3.title FROM production_company AS T1 INNER JOIN movie_company AS T2 ON T1.company_id = T2.company_id INNER JOIN movie AS T3 ON T2.movie_id = T3.movie_id WHERE T1.company_name = 'Warner Bros. Pictures' ORDER BY T3.revenue DESC LIMIT 1\"}), ConfigBox({'db_id': 'movies_4', 'question': 'Show the total number of keywords of the movie \"I Hope They Serve Beer in Hell\".', 'evidence': '\"I Hope They Serve Beer in Hell\" refers to title = \\'I Hope They Serve Beer in Hell\\';', 'SQL': \"SELECT COUNT(T2.keyword_id) FROM movie AS T1 INNER JOIN movie_keywords AS T2 ON T1.movie_id = T2.movie_id WHERE T1.title = 'I Hope They Serve Beer in Hell'\"}), ConfigBox({'db_id': 'movies_4', 'question': 'What is the ID of the production company which produced the movie \"Gladiator\"?', 'evidence': 'ID of the production company refers to company_id; movie \"Gladiator\" refers to title = \\'Gladiator\\'', 'SQL': \"SELECT T2.company_id FROM movie AS T1 INNER JOIN movie_company AS T2 ON T1.movie_id = T2.movie_id WHERE T1.title = 'Gladiator'\"}), ConfigBox({'db_id': 'movies_4', 'question': 'Which movies have the participation of actor Harrison Ford?', 'evidence': 'Which movies refers to title; actor refers to person_name', 'SQL': \"SELECT T1.title FROM movie AS T1 INNER JOIN movie_cast AS T2 ON T1.movie_id = T2.movie_id INNER JOIN person AS T3 ON T2.person_id = T3.person_id WHERE T3.person_name = 'Harrison Ford'\"}), ConfigBox({'db_id': 'movies_4', 'question': 'Please list the names of the production company of the movie \"Four Rooms\".', 'evidence': 'names of the production company refers to movie_company; movie \"Four Rooms\" refers to title = \\'Four Rooms\\'', 'SQL': \"SELECT T1.company_name FROM production_company AS T1 INNER JOIN movie_company AS T2 ON T1.company_id = T2.company_id INNER JOIN movie AS T3 ON T2.movie_id = T3.movie_id WHERE T3.title = 'Four Rooms'\"}), ConfigBox({'db_id': 'movies_4', 'question': \"List 10 crews alongside their jobs who worked on the movie 'Mad Max: Fury Road.'\", 'evidence': \"crews refers to person_name; movie 'Mad Max: Fury Road' refers to title = 'Mad Max: Fury Road'\", 'SQL': \"SELECT T3.person_name FROM movie AS T1 INNER JOIN movie_crew AS T2 ON T1.movie_id = T2.movie_id INNER JOIN person AS T3 ON T2.person_id = T3.person_id WHERE T1.title = 'Mad Max: Fury Road' LIMIT 10\"}), ConfigBox({'db_id': 'movies_4', 'question': \"What is the title of Jamie Foxx's most recent movie?\", 'evidence': 'most recent movie refers to max(release_date)', 'SQL': \"SELECT T1.title FROM movie AS T1 INNER JOIN movie_cast AS T2 ON T1.movie_id = T2.movie_id INNER JOIN person AS T3 ON T2.person_id = T3.person_id WHERE T3.person_name = 'Jamie Foxx' ORDER BY T1.release_date DESC LIMIT 1\"}), ConfigBox({'db_id': 'movies_4', 'question': \"What is the gender of the character 'USAF Master Sgt. Epps?'\", 'evidence': \"character 'USAF Master Sgt. Epps' refers to character_name = 'USAF Master Sgt. Epps'\", 'SQL': \"SELECT T2.gender FROM movie_cast AS T1 INNER JOIN gender AS T2 ON T1.gender_id = T2.gender_id WHERE T1.character_name = 'USAF Master Sgt. Epps'\"}), ConfigBox({'db_id': 'movies_4', 'question': 'Tell the language of the movie \"C\\'era una volta il West\".', 'evidence': 'language refers to language_name; movie \"C\\'era una volta il West\" refers to title = \\'C\\'\\'era una volta il West\\'', 'SQL': \"SELECT T3.language_name FROM movie AS T1 INNER JOIN movie_languages AS T2 ON T1.movie_id = T2.movie_id INNER JOIN language AS T3 ON T2.language_id = T3.language_id WHERE T1.title LIKE 'C%era una volta il West'\"}), ConfigBox({'db_id': 'movies_4', 'question': 'Name the horror movies with positive ratings greater than 7.', 'evidence': \"Name the horror movies refers to title where genre_name = 'horror'; positive ratings greater than 7 refers to vote_average > 7\", 'SQL': \"SELECT T1.title FROM movie AS T1 INNER JOIN movie_genres AS T2 ON T1.movie_id = T2.movie_id INNER JOIN genre AS T3 ON T2.genre_id = T3.genre_id WHERE T3.genre_name = 'Horror' AND T1.vote_average > 7\"}), ConfigBox({'db_id': 'movies_4', 'question': 'How many movies were produced by \"Eddie Murphy Productions\"?', 'evidence': 'produced by \"Eddie Murphy Productions\" refers to company_name = \\'Eddie Murphy Productions\\'', 'SQL': \"SELECT COUNT(T1.movie_id) FROM movie_company AS T1 INNER JOIN production_company AS T2 ON T1.company_id = T2.company_id WHERE T2.company_name = 'Eddie Murphy Productions'\"}), ConfigBox({'db_id': 'movies_4', 'question': 'Please list the titles of all the movie produced by production company \"Universal Pictures\".', 'evidence': '\"Universal Pictures\" refers to company_name = \\'Universal Pictures\\'', 'SQL': \"SELECT T3.title FROM production_company AS T1 INNER JOIN movie_company AS T2 ON T1.company_id = T2.company_id INNER JOIN movie AS T3 ON T2.movie_id = T3.movie_id WHERE T1.company_name = 'Universal Pictures'\"}), ConfigBox({'db_id': 'movies_4', 'question': 'Tell the number of movies made by Paramount Animation.', 'evidence': \"Paramount Animation refers to company_name = 'Paramount Animation'\", 'SQL': \"SELECT COUNT(T2.movie_id) FROM production_company AS T1 INNER JOIN movie_company AS T2 ON T1.company_id = T2.company_id WHERE T1.company_name = 'Paramount Animation'\"}), ConfigBox({'db_id': 'movies_4', 'question': 'What is the average ratio between female and male actors in a movie?', 'evidence': \"female refers to gender = 'Female'；male refers to gender = 'Male'; average ratio = divide(divide(sum(gender_id) when gender = 'Female', sum(gender_id) when gender = 'Male'), count(movie_id)) as percentage\", 'SQL': \"SELECT CAST(COUNT(CASE WHEN T2.gender = 'Female' THEN T1.person_id ELSE NULL END) AS REAL) / COUNT(CASE WHEN T2.gender = 'Male' THEN T1.person_id ELSE NULL END) FROM movie_cast AS T1 INNER JOIN gender AS T2 ON T1.gender_id = T2.gender_id\"}), ConfigBox({'db_id': 'movies_4', 'question': 'Provide the homepage of the Bahasa Indonesia movies.', 'evidence': \"Bahasa Indonesia movies refers to language_name = 'Bahasa indonesia'\", 'SQL': \"SELECT DISTINCT T1.homepage FROM movie AS T1 INNER JOIN movie_languages AS T2 ON T1.movie_id = T2.movie_id INNER JOIN language AS T3 ON T2.language_id = T3.language_id WHERE T3.language_name = 'Bahasa indonesia'\"}), ConfigBox({'db_id': 'movies_4', 'question': 'List the genres of Forrest Gump movie.', 'evidence': \"genres refers to genre_name; Forrest Gump movie refers to title = 'Forrest Gump'\", 'SQL': \"SELECT T3.genre_name FROM movie AS T1 INNER JOIN movie_genres AS T2 ON T1.movie_id = T2.movie_id INNER JOIN genre AS T3 ON T2.genre_id = T3.genre_id WHERE T1.title = 'Forrest Gump'\"}), ConfigBox({'db_id': 'movies_4', 'question': 'How many movies have \"vi\" as their language code?', 'evidence': '\"vi\" as their language code refers to language_code = \\'vi\\'', 'SQL': \"SELECT COUNT(T1.movie_id) FROM movie_languages AS T1 INNER JOIN language AS T2 ON T1.language_id = T2.language_id WHERE T2.language_code = 'vi'\"}), ConfigBox({'db_id': 'movies_4', 'question': 'List the title of movies in Latin released between 1/01/1990 and 12/31/1995.', 'evidence': \"movies in Latin refers to language_name = 'Latin'; released between 1/01/1990 and 12/31/1995 refers to release_date BETWEEN '1990-01-01' AND '1995-12-31'\", 'SQL': \"SELECT T1.title FROM movie AS T1 INNER JOIN movie_languages AS T2 ON T1.movie_id = T2.movie_id INNER JOIN language AS T3 ON T2.language_id = T3.language_id WHERE T3.language_name = 'Latin' AND T1.release_date BETWEEN '1990-01-01' AND '1995-12-31'\"}), ConfigBox({'db_id': 'movies_4', 'question': \"List all companies who worked in the movie 'Ultramarines: A Warhammer 40,000 Movie.'\", 'evidence': \"all companies refers to company_name; movie 'Ultramarines: A Warhammer 40,000 Movie' refers to title = 'Ultramarines: A Warhammer 40,000 Movie'\", 'SQL': \"SELECT T1.company_name FROM production_company AS T1 INNER JOIN movie_company AS T2 ON T1.company_id = T2.company_id INNER JOIN movie AS T3 ON T2.movie_id = T3.movie_id WHERE T3.title = 'Ultramarines: A Warhammer 40,000 Movie'\"}), ConfigBox({'db_id': 'movies_4', 'question': 'What are the genres of Sky Captain and the World of Tomorrow?', 'evidence': \"genres refers to genre_name; Sky Captain and the World of Tomorrow refers to title = 'Sky Captain and the World of Tomorrow'\", 'SQL': \"SELECT T3.genre_name FROM movie AS T1 INNER JOIN movie_genres AS T2 ON T1.movie_id = T2.movie_id INNER JOIN genre AS T3 ON T2.genre_id = T3.genre_id WHERE T1.title = 'Sky Captain and the World of Tomorrow'\"}), ConfigBox({'db_id': 'movies_4', 'question': 'What is the title of the latest released movie produced by production company \"Universal Pictures\"?', 'evidence': '\"Universal Pictures\" refers to company_name = \\'Universal Pictures\\'; latest released refers to max(release_date)', 'SQL': \"SELECT T3.title FROM production_company AS T1 INNER JOIN movie_company AS T2 ON T1.company_id = T2.company_id INNER JOIN movie AS T3 ON T2.movie_id = T3.movie_id WHERE T1.company_name = 'Universal Pictures' ORDER BY T3.release_date DESC LIMIT 1\"}), ConfigBox({'db_id': 'movies_4', 'question': 'Write down the release date of the movies produced by Twentieth Century Fox Film Corporation.', 'evidence': \"produced by Twentieth Century Fox Film Corporation refers to company_name = 'Twentieth Century Fox Film Corporation'\", 'SQL': \"SELECT T3.release_date FROM production_company AS T1 INNER JOIN movie_company AS T2 ON T1.company_id = T2.company_id INNER JOIN movie AS T3 ON T2.movie_id = T3.movie_id WHERE T1.company_name = 'Twentieth Century Fox Film Corporation'\"}), ConfigBox({'db_id': 'movies_4', 'question': 'Give the names of the female cast in Movie No. 1865.', 'evidence': \"female cast refers to gender = 'Female'; name of cast refers to person_name; Movie No. 1865 refers to movie_id = 1865\", 'SQL': \"SELECT T2.person_name FROM movie_cast AS T1 INNER JOIN person AS T2 ON T1.person_id = T2.person_id INNER JOIN gender AS T3 ON T1.gender_id = T3.gender_id WHERE T1.movie_id = 1865 AND T3.gender = 'Female'\"}), ConfigBox({'db_id': 'movies_4', 'question': 'How many crew are named John Young?', 'evidence': '', 'SQL': \"SELECT COUNT(person_id) FROM person WHERE person_name = 'John Young'\"}), ConfigBox({'db_id': 'movies_4', 'question': 'What percentage of films are made in the US?', 'evidence': \"films' and 'movies' are synonyms; made in the US refers to country_iso_code = 'US'; percentage = divide(sum(country_id) when country_iso_code = 'US', count(country_id)) * 100 as percentage\", 'SQL': \"SELECT CAST(COUNT(CASE WHEN T3.COUNTry_iso_code = 'US' THEN T1.movie_id ELSE NULL END) AS REAL) * 100 / COUNT(T1.movie_id) FROM movie AS T1 INNER JOIN production_COUNTry AS T2 ON T1.movie_id = T2.movie_id INNER JOIN COUNTry AS T3 ON T2.COUNTry_id = T3.COUNTry_id\"}), ConfigBox({'db_id': 'movies_4', 'question': 'Give the name of the movie with a revenue of 559852396.', 'evidence': \"name of the movie refers to title; revenue of 559852396 refers to revenue = '559852396'\", 'SQL': 'SELECT title FROM movie WHERE revenue = 559852396'}), ConfigBox({'db_id': 'movies_4', 'question': 'Which genre does the movie Dancer in the Dark belong to?', 'evidence': \"genre refers to genre_name; movie Dancer in the Dark refers to title = 'Dancer in the Dark'\", 'SQL': \"SELECT T3.genre_name FROM movie AS T1 INNER JOIN movie_genres AS T2 ON T1.movie_id = T2.movie_id INNER JOIN genre AS T3 ON T2.genre_id = T3.genre_id WHERE T1.title = 'Dancer in the Dark'\"}), ConfigBox({'db_id': 'movies_4', 'question': 'Tally the movie ID and character name in the movie starring Jim Carrey.', 'evidence': '', 'SQL': \"SELECT T2.movie_id, T2.character_name FROM person AS T1 INNER JOIN movie_cast AS T2 ON T1.person_id = T2.person_id WHERE T1.person_name = 'Jim Carrey'\"}), ConfigBox({'db_id': 'movies_4', 'question': 'How many movies did Harrison Ford appear in total?', 'evidence': '', 'SQL': \"SELECT COUNT(T2.movie_id) FROM person AS T1 INNER JOIN movie_cast AS T2 ON T1.person_id = T2.person_id WHERE T1.person_name = 'Harrison Ford'\"}), ConfigBox({'db_id': 'movies_4', 'question': 'Calculate the average budget of the movies directed by Jaume Collet-Serra.', 'evidence': \"directed by refers to job = 'Director'; average budget = AVG(budget)\", 'SQL': \"SELECT CAST(SUM(T1.budget) AS REAL) / COUNT(T1.movie_id) FROM movie AS T1 INNER JOIN movie_crew AS T2 ON T1.movie_id = T2.movie_id INNER JOIN person AS T3 ON T2.person_id = T3.person_id WHERE T3.person_name = 'Jaume Collet-Serra' AND T2.job = 'Director'\"}), ConfigBox({'db_id': 'movies_4', 'question': 'List down the IDs of the production companies that released the movies in 1916.', 'evidence': \"IDs of the production companies refers to company_id; movies in 1916 refers to release_date LIKE '1916%'\", 'SQL': \"SELECT T2.company_id FROM movie AS T1 INNER JOIN movie_company AS T2 ON T1.movie_id = T2.movie_id WHERE CAST(STRFTIME('%Y', T1.release_date) AS INT) = 1916\"}), ConfigBox({'db_id': 'movies_4', 'question': \"Who is the director for the movie 'Transformers?'\", 'evidence': \"the director refers to person_name where job = 'Director'; movie 'Transformers' refers to title = 'Transformers'\", 'SQL': \"SELECT T3.person_name FROM movie AS T1 INNER JOIN movie_crew AS T2 ON T1.movie_id = T2.movie_id INNER JOIN person AS T3 ON T2.person_id = T3.person_id WHERE T1.title = 'Transformers' AND T2.job = 'Director'\"}), ConfigBox({'db_id': 'movies_4', 'question': 'What is the percentage of romance films among films produced in India in 2015?', 'evidence': \"romance films refers to genre_name = 'Romance'; in India refers to country_name = 'India'; 2015 refers to release_date BETWEEN '2015-01-01' AND '2015-01-31'; percentage = divide(sum(movie_id) when genre_name = 'Romance', count(movie_id)) as percentage\", 'SQL': \"SELECT CAST(COUNT(CASE WHEN T4.genre_name = 'Romance' THEN T1.movie_id ELSE NULL END) AS REAL) * 100 / COUNT(T1.movie_id) FROM movie AS T1 INNER JOIN movie_genres AS T2 ON T1.movie_id = T2.movie_id INNER JOIN production_COUNTry AS T3 ON T1.movie_id = T3.movie_id INNER JOIN genre AS T4 ON T2.genre_id = T4.genre_id INNER JOIN COUNTry AS T5 ON T3.COUNTry_id = T5.COUNTry_id WHERE T5.COUNTry_name = 'India' AND T1.release_date BETWEEN '2015-01-01' AND '2015-12-31'\"}), ConfigBox({'db_id': 'movies_4', 'question': 'Accumulate the budget of the movie titles with the keyword of \"video game\".', 'evidence': 'keyword of \"video game\" refers to keyword_name = \\'video game\\'', 'SQL': \"SELECT SUM(T1.budget) FROM movie AS T1 INNER JOIN movie_keywords AS T2 ON T1.movie_id = T2.movie_id INNER JOIN keyword AS T3 ON T2.keyword_id = T3.keyword_id WHERE T3.keyword_name = 'video game'\"}), ConfigBox({'db_id': 'movies_4', 'question': 'What is the longest runtime of all movies?', 'evidence': 'longest runtime refers to max(runtime)', 'SQL': 'SELECT MAX(runtime) FROM movie'}), ConfigBox({'db_id': 'movies_4', 'question': 'Calculate the 2016 gap between the average revenue for Indian and American films.', 'evidence': \"2016 refers to release_date LIKE '2016%'; Indian and American films refers to country_name = 'India' and country_name = 'United States of America'; gap between the average revenue refers to subtract(divide(sum(revenue), count(movie_id)) when country_name = 'United States of America', divide(sum(revenue), count(movie_id)) when country_name = 'India')\", 'SQL': \"SELECT AVG(CASE WHEN T3.COUNTry_name = 'United States of America' THEN T1.revenue END) - AVG(CASE WHEN T3.COUNTry_name = 'India' THEN T1.revenue END) AS CALCULATE FROM movie AS T1 INNER JOIN production_COUNTry AS T2 ON T1.movie_id = T2.movie_id INNER JOIN COUNTry AS T3 ON T2.COUNTry_id = T3.COUNTry_id WHERE CAST(STRFTIME('%Y', T1.release_date) AS INT) = 2016\"}), ConfigBox({'db_id': 'movies_4', 'question': 'How many movies were directed by Michael Bay?', 'evidence': \"directed by refers to job = 'Director'\", 'SQL': \"SELECT COUNT(T2.movie_id) FROM person AS T1 INNER JOIN movie_crew AS T2 ON T1.person_id = T2.person_id WHERE T1.person_name = 'Michael Bay' AND T2.job = 'Director'\"}), ConfigBox({'db_id': 'movies_4', 'question': 'What is the country ID of the movie with the title of \"Pirates of the Caribbean: Dead Man\\'s Chest\"?', 'evidence': 'title of \"Pirates of the Caribbean: Dead Man\\'s Chest\" refers to title = \\'Pirates of the Caribbean: Dead Man\\'\\'s Chest\\'', 'SQL': \"SELECT T2.COUNTry_id FROM movie AS T1 INNER JOIN production_COUNTry AS T2 ON T1.movie_id = T2.movie_id WHERE T1.title LIKE 'Pirates of the Caribbean: Dead Man%s Chest'\"}), ConfigBox({'db_id': 'movies_4', 'question': 'List down five movie titles that were released before 2000.', 'evidence': \"released before 2000 refers to release_date < '2000-01-01'\", 'SQL': \"SELECT title FROM movie WHERE CAST(STRFTIME('%Y', release_date) AS INT) < 2000 LIMIT 5\"}), ConfigBox({'db_id': 'movies_4', 'question': 'Write me the titles of the movies starring Jim Carrey.', 'evidence': 'Jim Carrey is the person_name;', 'SQL': \"SELECT T1.title FROM movie AS T1 INNER JOIN movie_cast AS T2 ON T1.movie_id = T2.movie_id INNER JOIN person AS T3 ON T2.person_id = T3.person_id WHERE T3.person_name = 'Jim Carrey'\"}), ConfigBox({'db_id': 'movies_4', 'question': 'For all the movies which were produced by Cruel and Unusual Films, which one has the most popularity?', 'evidence': \"produced by Cruel and Unusual Films refers to company_name = 'Cruel and Unusual Films'; most popularity refers to max(popularity)\", 'SQL': \"SELECT T3.title FROM production_company AS T1 INNER JOIN movie_company AS T2 ON T1.company_id = T2.company_id INNER JOIN movie AS T3 ON T2.movie_id = T3.movie_id WHERE T1.company_name = 'Cruel and Unusual Films' ORDER BY T3.popularity DESC LIMIT 1\"}), ConfigBox({'db_id': 'movies_4', 'question': 'List the job titles of Sally Menke in the crew.', 'evidence': 'job titles refers to job', 'SQL': \"SELECT DISTINCT T2.job FROM person AS T1 INNER JOIN movie_crew AS T2 ON T1.person_id = T2.person_id WHERE T1.person_name = 'Sally Menke'\"}), ConfigBox({'db_id': 'movies_4', 'question': 'What is the most common first name?', 'evidence': 'most common first name refers to max(count(person_name))', 'SQL': 'SELECT person_name FROM person GROUP BY person_name ORDER BY COUNT(person_name) DESC LIMIT 1'}), ConfigBox({'db_id': 'movies_4', 'question': 'Which character did Orlando Bloom play in the movie Pirates of the Caribbean: The Curse of the Black Pearl?', 'evidence': \"Which character refers to character_name; movie Pirates of the Caribbean: The Curse of the Black Pearl refers to title = 'Pirates of the Caribbean: The Curse of the Black Pearl'\", 'SQL': \"SELECT T2.character_name FROM movie AS T1 INNER JOIN movie_cast AS T2 ON T1.movie_id = T2.movie_id INNER JOIN person AS T3 ON T2.person_id = T3.person_id WHERE T1.title = 'Pirates of the Caribbean: The Curse of the Black Pearl' AND T3.person_name = 'Orlando Bloom'\"}), ConfigBox({'db_id': 'movies_4', 'question': \"What percentage of movies that came from Japan belong in the 'animation' genre?\", 'evidence': \"from Japan refers to country_name = 'Japan'; in the 'animation' genre refers to genre_name = 'animation'; percentage = divide(sum(movie_id) when genre_name = 'animation', count(movie_id)) as percentage\", 'SQL': \"SELECT CAST(COUNT(CASE WHEN T4.genre_name = 'Animation' THEN T1.movie_id ELSE NULL END) AS REAL) * 100 / COUNT(T1.movie_id) FROM movie AS T1 INNER JOIN movie_genres AS T2 ON T1.movie_id = T2.movie_id INNER JOIN production_COUNTry AS T3 ON T1.movie_id = T3.movie_id INNER JOIN genre AS T4 ON T2.genre_id = T4.genre_id INNER JOIN COUNTry AS T5 ON T3.COUNTry_id = T5.COUNTry_id WHERE T5.COUNTry_name = 'Japan'\"}), ConfigBox({'db_id': 'movies_4', 'question': 'What is the genre of the movie title with the lowest revenue generated?', 'evidence': 'genre refers to genre_name; lowest revenue refers to min(revenue)', 'SQL': 'SELECT T3.genre_name FROM movie AS T1 INNER JOIN movie_genres AS T2 ON T1.movie_id = T2.movie_id INNER JOIN genre AS T3 ON T2.genre_id = T3.genre_id ORDER BY T1.revenue LIMIT 1'}), ConfigBox({'db_id': 'movies_4', 'question': 'List the names of camera supervisors in the crew.', 'evidence': \"names refers to person_name; camera supervisors refers to job = 'Camera Supervisor';\", 'SQL': \"SELECT T1.person_name FROM person AS T1 INNER JOIN movie_crew AS T2 ON T1.person_id = T2.person_id WHERE T2.job = 'Camera Supervisor'\"}), ConfigBox({'db_id': 'movies_4', 'question': 'Who played Captain Jack Sparrow in all of the Pirates of the Caribbean movies?', 'evidence': \"Captain Jack Sparrow refers to character_name = 'Captain Jack Sparrow'; Pirates of the Caribbean movies refers to title LIKE 'Pirates of the Carribbean%'\", 'SQL': \"SELECT DISTINCT T3.person_name FROM movie AS T1 INNER JOIN movie_cast AS T2 ON T1.movie_id = T2.movie_id INNER JOIN person AS T3 ON T2.person_id = T3.person_id WHERE T2.character_name = 'Captain Jack Sparrow' AND T1.title LIKE 'Pirates of the Caribbean%'\"}), ConfigBox({'db_id': 'movies_4', 'question': 'What is the title of the highest-budget film to date? Please include the revenue and name the country.', 'evidence': 'highest-budget film refers to max(budget); name the country refers to country_name', 'SQL': 'SELECT T1.title, T1.revenue, T3.COUNTry_name FROM movie AS T1 INNER JOIN production_COUNTry AS T2 ON T1.movie_id = T2.movie_id INNER JOIN COUNTry AS T3 ON T2.COUNTry_id = T3.COUNTry_id ORDER BY T1.budget DESC LIMIT 1'}), ConfigBox({'db_id': 'movies_4', 'question': 'Find out the language ID of the movie with the highest popularity.', 'evidence': 'highest popularity refers to max(popularity)', 'SQL': 'SELECT T2.language_id FROM movie AS T1 INNER JOIN movie_languages AS T2 ON T1.movie_id = T2.movie_id ORDER BY T1.popularity DESC LIMIT 1'}), ConfigBox({'db_id': 'movies_4', 'question': 'Which department has the most people?', 'evidence': 'department refers to department_name; most people refers to max(count(department_id))', 'SQL': 'SELECT T1.department_name FROM department AS T1 INNER JOIN movie_crew AS T2 ON T1.department_id = T2.department_id GROUP BY T1.department_id ORDER BY COUNT(T2.department_id) DESC LIMIT 1'}), ConfigBox({'db_id': 'movies_4', 'question': 'What is the language ID of the movie \"Walk the Line\"?', 'evidence': 'movie \"Walk the Line\" refers to title = \\'Walk the Line\\'', 'SQL': \"SELECT T2.language_id FROM movie AS T1 INNER JOIN movie_languages AS T2 ON T1.movie_id = T2.movie_id WHERE T1.title = 'Walk the Line'\"}), ConfigBox({'db_id': 'movies_4', 'question': 'What is the most common keyword among all the movies released in 2006?', 'evidence': \"most common keyword refers to max(count(keyword_name)); movies released in 2006 refers to release_date LIKE '%2006%'\", 'SQL': \"SELECT T3.keyword_name FROM movie AS T1 INNER JOIN movie_keywords AS T2 ON T1.movie_id = T2.movie_id INNER JOIN keyword AS T3 ON T2.keyword_id = T3.keyword_id WHERE T1.release_date LIKE '2006%' GROUP BY T3.keyword_name ORDER BY COUNT(T3.keyword_name) DESC LIMIT 1\"}), ConfigBox({'db_id': 'movies_4', 'question': 'How many times did Bob Peterson appear in the movie credits?', 'evidence': '', 'SQL': \"SELECT COUNT(T2.movie_id) FROM person AS T1 INNER JOIN movie_cast AS T2 ON T1.person_id = T2.person_id WHERE T1.person_name = 'Bob Peterson'\"}), ConfigBox({'db_id': 'movies_4', 'question': 'Provide the release date and language of the most popular movie.', 'evidence': 'language refers to langauge_name; most popular movie refers to max(popularity)', 'SQL': 'SELECT T1.release_date, T3.language_name FROM movie AS T1 INNER JOIN movie_languages AS T2 ON T1.movie_id = T2.movie_id INNER JOIN language AS T3 ON T2.language_id = T3.language_id ORDER BY T1.popularity DESC LIMIT 1'}), ConfigBox({'db_id': 'movies_4', 'question': 'What is the name of the director of photography of the movie \"Pirates of the Caribbean: At World\\'s End\"?', 'evidence': 'name of the director of photography refers to person_name where job = \\'Director of Photography\\'; \"Pirates of the Caribbean: At World\\'s End\" refers to title = \\'Pirates of the Caribbean: At World\\'\\'s End\\'', 'SQL': \"SELECT T3.person_name FROM movie AS T1 INNER JOIN movie_crew AS T2 ON T1.movie_id = T2.movie_id INNER JOIN person AS T3 ON T2.person_id = T3.person_id WHERE T1.title LIKE 'Pirates of the Caribbean: At World%s End' AND T2.job = 'Director of Photography'\"}), ConfigBox({'db_id': 'movies_4', 'question': 'Among the zero-budget movie titles, which one has made the highest revenue?', 'evidence': 'zero-budget refers to budget = 0; highest revenue refers to max(revenue)', 'SQL': 'SELECT title FROM movie WHERE budget = 0 ORDER BY revenue DESC LIMIT 1'}), ConfigBox({'db_id': 'movies_4', 'question': 'How many adventure movies are there that were released in 2000?', 'evidence': \"adventure movies refers to genre_name = 'Adventure'; released in 2000 refers to release_date LIKE '2000%'\", 'SQL': \"SELECT COUNT(T1.movie_id) FROM movie AS T1 INNER JOIN movie_genres AS T2 ON T1.movie_id = T2.movie_id INNER JOIN genre AS T3 ON T2.genre_id = T3.genre_id WHERE T3.genre_name = 'Adventure' AND CAST(STRFTIME('%Y', T1.release_date) AS INT) = 2000\"}), ConfigBox({'db_id': 'movies_4', 'question': 'List the names of the production companies that made at least 200 movies.', 'evidence': 'names of the production companies refers to company_name; at least 200 movies refers to COUNT(company_name) > = 200', 'SQL': 'SELECT T1.company_name FROM production_company AS T1 INNER JOIN movie_company AS T2 ON T1.company_id = T2.company_id GROUP BY T1.company_id HAVING COUNT(T2.movie_id) > 200'}), ConfigBox({'db_id': 'movies_4', 'question': 'Calculate the average income made by movies using the keyword \"paris\". List the title of the movies.', 'evidence': 'income refers to revenue; keyword \"paris\" refers to keyword_name = \\'paris\\'; average income = AVG(revenue)', 'SQL': \"SELECT AVG(T1.revenue), T1.title FROM movie AS T1 INNER JOIN movie_keywords AS T2 ON T1.movie_id = T2.movie_id INNER JOIN keyword AS T3 ON T2.keyword_id = T3.keyword_id WHERE T3.keyword_name = 'paris'\"}), ConfigBox({'db_id': 'movies_4', 'question': 'Provide the ID and ISO code of Belgium.', 'evidence': \"ID refers to country_id; ISO code refers to country_iso_code; Belgium refers to country_name = 'Belgium'\", 'SQL': \"SELECT COUNTry_id, COUNTry_iso_code FROM COUNTry WHERE COUNTry_name = 'Belgium'\"}), ConfigBox({'db_id': 'movies_4', 'question': 'List down the movie titles within the genre of thriller.', 'evidence': \"genre of thriller refers to genre_name = 'Thriller'\", 'SQL': \"SELECT T1.title FROM movie AS T1 INNER JOIN movie_genres AS T2 ON T1.movie_id = T2.movie_id INNER JOIN genre AS T3 ON T2.genre_id = T3.genre_id WHERE T3.genre_name = 'Thriller'\"}), ConfigBox({'db_id': 'movies_4', 'question': 'For movies with the keyword of \"civil war\", calculate the average revenue generated by these movies.', 'evidence': 'keyword of \"civil war\" refers to keyword_name = \\'civil war\\'; average revenue = AVG(revenue)', 'SQL': \"SELECT AVG(T1.revenue) FROM movie AS T1 INNER JOIN movie_keywords AS T2 ON T1.movie_id = T2.movie_id INNER JOIN keyword AS T3 ON T2.keyword_id = T3.keyword_id WHERE T3.keyword_name = 'civil war'\"}), ConfigBox({'db_id': 'movies_4', 'question': 'Provide the production companies of the movie that has over 35% average running time per movie in 2016.', 'evidence': \"production companies refers to company_name; in 2016 refers to release_date LIKE '2016%'; over 35% average running time per movie refers to divide(subtract(runtime, AVG(runtime)), AVG(runtime)) * 100 as percentage > 35\", 'SQL': \"SELECT T.company_name FROM ( SELECT DISTINCT T3.company_name, T1.runtime FROM movie AS T1 INNER JOIN movie_company AS T2 ON T1.movie_id = T2.movie_id INNER JOIN production_company AS T3 ON T3.company_id = T2.company_id WHERE T1.release_date LIKE '2016%' ) T WHERE T.runtime * 100 > (0.35 * ( SELECT AVG(T1.runtime) FROM movie AS T1 INNER JOIN movie_company AS T2 ON T1.movie_id = T2.movie_id INNER JOIN production_company AS T3 ON T3.company_id = T2.company_id WHERE T1.release_date LIKE '2016%' ) + ( SELECT AVG(T1.runtime) FROM movie AS T1 INNER JOIN movie_company AS T2 ON T1.movie_id = T2.movie_id INNER JOIN production_company AS T3 ON T3.company_id = T2.company_id WHERE T1.release_date LIKE '2016%' )) * 100\"}), ConfigBox({'db_id': 'movies_4', 'question': 'List the character names played by Catherine Deneuve.', 'evidence': '', 'SQL': \"SELECT T2.character_name FROM person AS T1 INNER JOIN movie_cast AS T2 ON T1.person_id = T2.person_id WHERE T1.person_name = 'Catherine Deneuve'\"}), ConfigBox({'db_id': 'movies_4', 'question': 'When was the first movie released?', 'evidence': 'when the first movie refers to release_date where min(release_date)', 'SQL': \"SELECT MIN(release_date) FROM movie WHERE movie_status = 'Released'\"}), ConfigBox({'db_id': 'movies_4', 'question': 'What is the iso code of \"Kyrgyz Republic\"?', 'evidence': 'iso code refers to country_iso_code; \"Kyrgyz Republic\" refers to country_name = \\'Kyrgyz Republic\\'', 'SQL': \"SELECT COUNTry_iso_code FROM COUNTry WHERE COUNTry_name = 'Kyrgyz Republic'\"}), ConfigBox({'db_id': 'movies_4', 'question': 'Provide the most used keyword in the movies.', 'evidence': 'most used keyword refers to keyword_name where max(count(keyword_name))', 'SQL': 'SELECT T1.keyword_name FROM keyword AS T1 INNER JOIN movie_keywords AS T2 ON T1.keyword_id = T2.keyword_id GROUP BY T1.keyword_name ORDER BY COUNT(T1.keyword_name) DESC LIMIT 1'}), ConfigBox({'db_id': 'movies_4', 'question': 'What is the third least common genre?', 'evidence': 'least common genre refers to min(count(genre_name))', 'SQL': 'SELECT T2.genre_name FROM movie_genres AS T1 INNER JOIN genre AS T2 ON T1.genre_id = T2.genre_id GROUP BY T2.genre_id ORDER BY COUNT(T1.movie_id) LIMIT 2, 1'}), ConfigBox({'db_id': 'movies_4', 'question': 'In how many movie does Dariusz Wolski work as the director of photography?', 'evidence': \"director of photography refers to job = 'Director of Photography'\", 'SQL': \"SELECT COUNT(T2.movie_id) FROM person AS T1 INNER JOIN movie_crew AS T2 ON T1.person_id = T2.person_id WHERE T1.person_name = 'Dariusz Wolski' AND T2.job = 'Director of Photography'\"}), ConfigBox({'db_id': 'movies_4', 'question': 'Provide the genre ID of the movie with the title of \"The Dark Knight\".', 'evidence': 'movie with the title of \"The Dark Knight\" refers to title = \\'The Dark Knight\\'', 'SQL': \"SELECT T2.genre_id FROM movie AS T1 INNER JOIN movie_genres AS T2 ON T1.movie_id = T2.movie_id WHERE T1.title = 'The Dark Knight'\"}), ConfigBox({'db_id': 'movies_4', 'question': 'Who is the person associated with the crew id 1325273?', 'evidence': 'Who is the person refers to person_name; crew id 1325273 refers to person_id = 1325273', 'SQL': 'SELECT person_name FROM person WHERE person_id = 1325273'}), ConfigBox({'db_id': 'movies_4', 'question': 'What is the role of Mark Hammel?', 'evidence': 'role refers to job', 'SQL': \"SELECT T2.job FROM person AS T1 INNER JOIN movie_crew AS T2 ON T1.person_id = T2.person_id WHERE T1.person_name = 'Mark Hammel'\"}), ConfigBox({'db_id': 'movies_4', 'question': 'List all the unspecified gender characters.', 'evidence': \"characters refers to character_name; gender = 'Unspecified'\", 'SQL': \"SELECT T1.character_name FROM movie_cast AS T1 INNER JOIN gender AS T2 ON T1.gender_id = T2.gender_id WHERE T2.gender = 'Unspecified'\"}), ConfigBox({'db_id': 'movies_4', 'question': 'List the person IDs of the second film editors in Movie No. 12.', 'evidence': \"second film editors refers to job = 'Second Film Editor'; Movie No. 12 refers to movie_id = 12\", 'SQL': \"SELECT person_id FROM movie_crew WHERE movie_id = 12 AND job = 'Second Film Editor'\"}), ConfigBox({'db_id': 'movies_4', 'question': 'How many female characters are there in the movie \"Spider-Man 3\"?', 'evidence': 'female characters refer to gender = \\'Female\\'; \"Spider-Man 3\" refers to title = \\'Spider-Man 3\\'', 'SQL': \"SELECT COUNT(*) FROM movie AS T1 INNER JOIN movie_cast AS T2 ON T1.movie_id = T2.movie_id INNER JOIN gender AS T3 ON T2.gender_id = T3.gender_id WHERE T1.title = 'Spider-Man 3' AND T3.gender = 'Female'\"}), ConfigBox({'db_id': 'movies_4', 'question': 'List down the tagline of the Polski movies.', 'evidence': \"Polski movies refers to language_name = 'Polski'\", 'SQL': \"SELECT DISTINCT T1.tagline FROM movie AS T1 INNER JOIN movie_languages AS T2 ON T1.movie_id = T2.movie_id INNER JOIN language AS T3 ON T2.language_id = T3.language_id WHERE T3.language_name = 'Polski'\"}), ConfigBox({'db_id': 'movies_4', 'question': 'Which keywords belong to the movie titles with the highest popularity?', 'evidence': 'Which keywords refers to keyword_name; highest popularity refers to max(popularity)', 'SQL': 'SELECT T3.keyword_name FROM movie AS T1 INNER JOIN movie_keywords AS T2 ON T1.movie_id = T2.movie_id INNER JOIN keyword AS T3 ON T2.keyword_id = T3.keyword_id ORDER BY T1.popularity DESC LIMIT 1'}), ConfigBox({'db_id': 'movies_4', 'question': 'Who is the main actor in the \"Pirates of the Caribbean: At World\\'s End\" movie?', 'evidence': 'main actor refers to person_name where Min(cast_order); \"Pirates of the Caribbean: At World\\'s End\" refers to title = \\'Pirates of the Caribbean: At World\\'\\'s End\\'', 'SQL': \"SELECT T3.person_name FROM movie AS T1 INNER JOIN movie_cast AS T2 ON T1.movie_id = T2.movie_id INNER JOIN person AS T3 ON T2.person_id = T3.person_id WHERE T1.title LIKE 'Pirates of the Caribbean: At World%s End' ORDER BY T2.cast_order LIMIT 1\"}), ConfigBox({'db_id': 'movies_4', 'question': \"How many main actors are there in the movie Pirates of the Caribbean: At World's End?\", 'evidence': \"main actors refers to gender = 'male' and min(cast_order); Pirates of the Caribbean: At World's End refers to title = 'Pirates of the Caribbean: At World''s End'\", 'SQL': \"SELECT COUNT(T2.cast_order) FROM movie AS T1 INNER JOIN movie_cast AS T2 ON T1.movie_id = T2.movie_id INNER JOIN gender AS T3 ON T3.gender_id = T2.gender_id WHERE T3.gender = 'Male' OR T3.gender = 'Female' AND T1.title = 'Pirates of the Caribbean: At World''s End' AND T2.cast_order = ( SELECT MIN(T2.cast_order) FROM movie AS T1 INNER JOIN movie_cast AS T2 ON T1.movie_id = T2.movie_id INNER JOIN gender AS T3 ON T3.gender_id = T2.gender_id WHERE T3.gender = 'Male' OR T3.gender = 'Female' AND T1.title = 'Pirates of the Caribbean: At World''s End' )\"}), ConfigBox({'db_id': 'movies_4', 'question': 'List all the keywords with \"christmas\" in them.', 'evidence': 'keywords with \"christmas\" in them refers to keyword_name LIKE \\'%christmas%\\'', 'SQL': \"SELECT keyword_name FROM keyword WHERE keyword_name LIKE '%christmas%'\"}), ConfigBox({'db_id': 'movies_4', 'question': 'What are the top 5 most popular movie directors?', 'evidence': \"directors refers to job = 'Director'; most popular refers to max(popularity)\", 'SQL': \"SELECT T3.person_name FROM movie AS T1 INNER JOIN movie_crew AS T2 ON T1.movie_id = T2.movie_id INNER JOIN person AS T3 ON T2.person_id = T3.person_id WHERE T2.job = 'Director' ORDER BY T1.popularity DESC LIMIT 5\"}), ConfigBox({'db_id': 'movies_4', 'question': 'List down the movies produced by Lucasfilm.', 'evidence': \"movies refers to title; produced by Lucasfil refers to company_name = 'Lucasfilm'\", 'SQL': \"SELECT T3.title FROM production_company AS T1 INNER JOIN movie_company AS T2 ON T1.company_id = T2.company_id INNER JOIN movie AS T3 ON T2.movie_id = T3.movie_id WHERE T1.company_name = 'Lucasfilm'\"}), ConfigBox({'db_id': 'movies_4', 'question': 'What is the average number of crews for a movie?', 'evidence': 'average number of crews = divide(count(person_id), COUNT(movie_id))', 'SQL': 'SELECT CAST(SUM(CD) AS REAL) / COUNT(movie_id) FROM ( SELECT movie_id, COUNT(person_id) AS CD FROM movie_crew GROUP BY movie_id )'}), ConfigBox({'db_id': 'movies_4', 'question': 'Provide the average revenue of all the French movies.', 'evidence': \"French movies refers to country_name = 'France'; average revenue = AVG(revenue)\", 'SQL': \"SELECT AVG(T1.revenue) FROM movie AS T1 INNER JOIN production_COUNTry AS T2 ON T1.movie_id = T2.movie_id INNER JOIN COUNTry AS T3 ON T2.COUNTry_id = T3.COUNTry_id WHERE T3.COUNTry_name = 'France'\"}), ConfigBox({'db_id': 'movies_4', 'question': 'What is the title of the movie that was made with the most money and resources?', 'evidence': 'made with the most money and resources refers to max(budget)', 'SQL': 'SELECT title FROM movie ORDER BY budget DESC LIMIT 1'}), ConfigBox({'db_id': 'movies_4', 'question': 'Write down five rumoured movie titles within the genre of Drama.', 'evidence': \"rumoured movie refers to movie_status = 'rumoured'; genre of Drama refers to genre_name = 'Drama'\", 'SQL': \"SELECT T1.title FROM movie AS T1 INNER JOIN movie_genres AS T2 ON T1.movie_id = T2.movie_id INNER JOIN genre AS T3 ON T2.genre_id = T3.genre_id WHERE T1.movie_status = 'Rumored' AND T3.genre_name = 'Drama' LIMIT 5\"}), ConfigBox({'db_id': 'movies_4', 'question': 'List all the actors who have played characters with \"captain\" in their names.', 'evidence': 'List all the actors refers to person_name; characters with \"captain\" in their names refers to character_name LIKE \\'%captain%\\';', 'SQL': \"SELECT DISTINCT T1.person_name FROM person AS T1 INNER JOIN movie_cast AS T2 ON T1.person_id = T2.person_id WHERE T2.character_name LIKE '%captain%'\"}), ConfigBox({'db_id': 'movies_4', 'question': 'Which movies did the company Paramount Pictures produce in 2000?', 'evidence': \"Which movies refers to title; company Paramount Pictures refers to company_name = 'Paramount Pictures'; in 2000 refers to release_date LIKE '2000%'\", 'SQL': \"SELECT T3.title FROM production_company AS T1 INNER JOIN movie_company AS T2 ON T1.company_id = T2.company_id INNER JOIN movie AS T3 ON T2.movie_id = T3.movie_id WHERE T1.company_name = 'Paramount Pictures' AND CAST(STRFTIME('%Y', T3.release_date) AS INT) = 2000\"}), ConfigBox({'db_id': 'movies_4', 'question': 'List down the movie titles that were produced in Canada.', 'evidence': \"produced in Canada refers to country_name = 'Canada'\", 'SQL': \"SELECT T1.title FROM movie AS T1 INNER JOIN production_COUNTry AS T2 ON T1.movie_id = T2.movie_id INNER JOIN COUNTry AS T3 ON T2.COUNTry_id = T3.COUNTry_id WHERE T3.COUNTry_name = 'Canada'\"}), ConfigBox({'db_id': 'movies_4', 'question': 'Give the number of movies with \"saving the world\" as the keyword.', 'evidence': '\"saving the world\" as the keyword refers to keyword_name = \\'saving the world\\'', 'SQL': \"SELECT COUNT(T2.movie_id) FROM keyword AS T1 INNER JOIN movie_keywords AS T2 ON T1.keyword_id = T2.keyword_id WHERE keyword_name = 'saving the world'\"}), ConfigBox({'db_id': 'movies_4', 'question': 'List 10 movie titles that were produced in France.', 'evidence': \"France refers to country_name = 'France'\", 'SQL': \"SELECT T1.title FROM movie AS T1 INNER JOIN production_COUNTry AS T2 ON T1.movie_id = T2.movie_id INNER JOIN COUNTry AS T3 ON T2.COUNTry_id = T3.COUNTry_id WHERE T3.COUNTry_name = 'France' LIMIT 10\"}), ConfigBox({'db_id': 'movies_4', 'question': 'How many horror movies are there?', 'evidence': \"horror movies refers to genre_name = 'Horror'\", 'SQL': \"SELECT COUNT(T1.movie_id) FROM movie_genres AS T1 INNER JOIN genre AS T2 ON T1.genre_id = T2.genre_id WHERE T2.genre_name = 'Horror'\"}), ConfigBox({'db_id': 'movies_4', 'question': 'What is the keyword ID of the movie with the title of \"Sin City\"?', 'evidence': 'title of \"Sin City\" refers to title = \\'Sin City\\'', 'SQL': \"SELECT T2.keyword_id FROM movie AS T1 INNER JOIN movie_keywords AS T2 ON T1.movie_id = T2.movie_id WHERE T1.title = 'Sin City'\"}), ConfigBox({'db_id': 'movies_4', 'question': 'Look for the movie title with the keyword of \"angel\".', 'evidence': 'keyword of \"angel\" refers to keyword_name = \\'angel\\'', 'SQL': \"SELECT T1.title FROM movie AS T1 INNER JOIN movie_keywords AS T2 ON T1.movie_id = T2.movie_id INNER JOIN keyword AS T3 ON T2.keyword_id = T3.keyword_id WHERE T3.keyword_name = 'angel'\"}), ConfigBox({'db_id': 'movies_4', 'question': 'Work out the difference in revenues made between the English and Latin movies.', 'evidence': \"English refers to language_name = 'English'; Latin refers to language_name = 'Latin'; difference in revenues = subtract(sum(movie_id) when language_name = 'English', sum(movie_id) when language_name = 'Latin')\", 'SQL': \"SELECT SUM(CASE WHEN T3.language_name = 'English' THEN T1.revenue ELSE 0 END) - SUM(CASE WHEN T3.language_name = 'Latin' THEN T1.revenue ELSE 0 END) AS DIFFERENCE FROM movie AS T1 INNER JOIN movie_languages AS T2 ON T1.movie_id = T2.movie_id INNER JOIN language AS T3 ON T2.language_id = T3.language_id\"}), ConfigBox({'db_id': 'movies_4', 'question': \"What is Walt Disney Pictures' most popular movie?\", 'evidence': \"Walt Disney Pictures refers to company_name = 'Walt Disney Pictures'; most popular movie refers to max(popularity)\", 'SQL': \"SELECT T3.title FROM production_company AS T1 INNER JOIN movie_company AS T2 ON T1.company_id = T2.company_id INNER JOIN movie AS T3 ON T2.movie_id = T3.movie_id WHERE T1.company_name = 'Walt Disney Pictures' ORDER BY T3.popularity DESC LIMIT 1\"}), ConfigBox({'db_id': 'movies_4', 'question': 'What is the average number of horror movies among all movies genre?', 'evidence': \"horror movies refers to genre_name = 'horror'; average number = divide(sum(movie_id) when genre_name = 'horror', count(movie_id))\", 'SQL': \"SELECT CAST(COUNT(CASE WHEN T3.genre_name = 'Horror' THEN T1.movie_id ELSE NULL END) AS REAL) / COUNT(T1.movie_id) FROM movie AS T1 INNER JOIN movie_genres AS T2 ON T1.movie_id = T2.movie_id INNER JOIN genre AS T3 ON T2.genre_id = T3.genre_id\"})] has loaded succesfully completed]\n",
      "[2024-09-10 13:12:40,086: INFO: 4210093409: ----added cursor----]\n",
      "[2024-09-10 13:12:41,895: INFO: 4210093409: ----database closeed----]\n",
      "[2024-09-10 13:12:41,895: INFO: 4210093409: ----Data alternation started----]\n",
      "[2024-09-10 13:12:41,895: INFO: 4210093409: ----Pick 12 Random samples from dataset----]\n",
      "[2024-09-10 13:12:41,895: INFO: 4210093409: ----Data alternation of few shots started----]\n",
      "[2024-09-10 13:12:41,901: INFO: 4210093409: ----Data alternation of few shots completed----]\n",
      "[2024-09-10 13:12:41,903: INFO: common: json file saved at: artifacts/data/few_shots.json]\n",
      "[{'Question': \"What percentage of films are made in the US? ==>> films' and 'movies' are synonyms; made in the US refers to country_iso_code = 'US'; percentage = divide(sum(country_id) when country_iso_code = 'US', count(country_id)) * 100 as percentage\", 'SQLQuery': \"SELECT CAST(COUNT(CASE WHEN T3.COUNTry_iso_code = 'US' THEN T1.movie_id ELSE NULL END) AS REAL) * 100 / COUNT(T1.movie_id) FROM movie AS T1 INNER JOIN production_COUNTry AS T2 ON T1.movie_id = T2.movie_id INNER JOIN COUNTry AS T3 ON T2.COUNTry_id = T3.COUNTry_id\", 'SQLResult': 'Result of the SQL query', 'Answer': '61.39564660691421'}, {'Question': \"Who is the director for the movie 'Transformers?' ==>> the director refers to person_name where job = 'Director'; movie 'Transformers' refers to title = 'Transformers'\", 'SQLQuery': \"SELECT T3.person_name FROM movie AS T1 INNER JOIN movie_crew AS T2 ON T1.movie_id = T2.movie_id INNER JOIN person AS T3 ON T2.person_id = T3.person_id WHERE T1.title = 'Transformers' AND T2.job = 'Director'\", 'SQLResult': 'Result of the SQL query', 'Answer': 'Michael Bay'}, {'Question': \"Give the names of the female cast in Movie No. 1865. ==>> female cast refers to gender = 'Female'; name of cast refers to person_name; Movie No. 1865 refers to movie_id = 1865\", 'SQLQuery': \"SELECT T2.person_name FROM movie_cast AS T1 INNER JOIN person AS T2 ON T1.person_id = T2.person_id INNER JOIN gender AS T3 ON T1.gender_id = T3.gender_id WHERE T1.movie_id = 1865 AND T3.gender = 'Female'\", 'SQLResult': 'Result of the SQL query', 'Answer': 'Penu00e9lope Cruz,Judi Dench,Emilia Jones'}, {'Question': \"List down the IDs of the production companies that released the movies in 1916. ==>> IDs of the production companies refers to company_id; movies in 1916 refers to release_date LIKE '1916%'\", 'SQLQuery': \"SELECT T2.company_id FROM movie AS T1 INNER JOIN movie_company AS T2 ON T1.movie_id = T2.movie_id WHERE CAST(STRFTIME('%Y', T1.release_date) AS INT) = 1916\", 'SQLResult': 'Result of the SQL query', 'Answer': '1307,1308'}, {'Question': 'How many movies have \"vi\" as their language code? ==>> \"vi\" as their language code refers to language_code = \\'vi\\'', 'SQLQuery': \"SELECT COUNT(T1.movie_id) FROM movie_languages AS T1 INNER JOIN language AS T2 ON T1.language_id = T2.language_id WHERE T2.language_code = 'vi'\", 'SQLResult': 'Result of the SQL query', 'Answer': '18'}, {'Question': \"Work out the difference in revenues made between the English and Latin movies. ==>> English refers to language_name = 'English'; Latin refers to language_name = 'Latin'; difference in revenues = subtract(sum(movie_id) when language_name = 'English', sum(movie_id) when language_name = 'Latin')\", 'SQLQuery': \"SELECT SUM(CASE WHEN T3.language_name = 'English' THEN T1.revenue ELSE 0 END) - SUM(CASE WHEN T3.language_name = 'Latin' THEN T1.revenue ELSE 0 END) AS DIFFERENCE FROM movie AS T1 INNER JOIN movie_languages AS T2 ON T1.movie_id = T2.movie_id INNER JOIN language AS T3 ON T2.language_id = T3.language_id\", 'SQLResult': 'Result of the SQL query', 'Answer': '761457885176'}, {'Question': \"What is the percentage of romance films among films produced in India in 2015? ==>> romance films refers to genre_name = 'Romance'; in India refers to country_name = 'India'; 2015 refers to release_date BETWEEN '2015-01-01' AND '2015-01-31'; percentage = divide(sum(movie_id) when genre_name = 'Romance', count(movie_id)) as percentage\", 'SQLQuery': \"SELECT CAST(COUNT(CASE WHEN T4.genre_name = 'Romance' THEN T1.movie_id ELSE NULL END) AS REAL) * 100 / COUNT(T1.movie_id) FROM movie AS T1 INNER JOIN movie_genres AS T2 ON T1.movie_id = T2.movie_id INNER JOIN production_COUNTry AS T3 ON T1.movie_id = T3.movie_id INNER JOIN genre AS T4 ON T2.genre_id = T4.genre_id INNER JOIN COUNTry AS T5 ON T3.COUNTry_id = T5.COUNTry_id WHERE T5.COUNTry_name = 'India' AND T1.release_date BETWEEN '2015-01-01' AND '2015-12-31'\", 'SQLResult': 'Result of the SQL query', 'Answer': '14.285714285714286'}, {'Question': 'Look for the movie title with the keyword of \"angel\". ==>> keyword of \"angel\" refers to keyword_name = \\'angel\\'', 'SQLQuery': \"SELECT T1.title FROM movie AS T1 INNER JOIN movie_keywords AS T2 ON T1.movie_id = T2.movie_id INNER JOIN keyword AS T3 ON T2.keyword_id = T3.keyword_id WHERE T3.keyword_name = 'angel'\", 'SQLResult': 'Result of the SQL query', 'Answer': \"City of Angels,It's a Wonderful Life,Dogma,The Prophecy,Frailty,Legion,The Mortal Instruments: City of Bones,The Christmas Candle\"}, {'Question': 'Among the zero-budget movie titles, which one has made the highest revenue? ==>> zero-budget refers to budget = 0; highest revenue refers to max(revenue)', 'SQLQuery': 'SELECT title FROM movie WHERE budget = 0 ORDER BY revenue DESC LIMIT 1', 'SQLResult': 'Result of the SQL query', 'Answer': 'Wild Hogs'}, {'Question': 'What is the country ID of the movie with the title of \"Pirates of the Caribbean: Dead Man\\'s Chest\"? ==>> title of \"Pirates of the Caribbean: Dead Man\\'s Chest\" refers to title = \\'Pirates of the Caribbean: Dead Man\\'\\'s Chest\\'', 'SQLQuery': \"SELECT T2.COUNTry_id FROM movie AS T1 INNER JOIN production_COUNTry AS T2 ON T1.movie_id = T2.movie_id WHERE T1.title LIKE 'Pirates of the Caribbean: Dead Man%s Chest'\", 'SQLResult': 'Result of the SQL query', 'Answer': '175,214,140,153'}, {'Question': \"Provide the ID and ISO code of Belgium. ==>> ID refers to country_id; ISO code refers to country_iso_code; Belgium refers to country_name = 'Belgium'\", 'SQLQuery': \"SELECT COUNTry_id, COUNTry_iso_code FROM COUNTry WHERE COUNTry_name = 'Belgium'\", 'SQLResult': 'Result of the SQL query', 'Answer': '136'}, {'Question': 'What is the keyword ID of the movie with the title of \"Sin City\"? ==>> title of \"Sin City\" refers to title = \\'Sin City\\'', 'SQLQuery': \"SELECT T2.keyword_id FROM movie AS T1 INNER JOIN movie_keywords AS T2 ON T1.movie_id = T2.movie_id WHERE T1.title = 'Sin City'\", 'SQLResult': 'Result of the SQL query', 'Answer': '4565,9717,15365,18712,158973,159362,171570,175593,175600,175603,175610,207268'}]\n",
      "[2024-09-10 13:12:41,903: INFO: 4210093409: Sematic similarity example selector begin]\n"
     ]
    },
    {
     "name": "stderr",
     "output_type": "stream",
     "text": [
      "C:\\Users\\Asus\\AppData\\Local\\Temp\\ipykernel_97192\\4210093409.py:59: LangChainDeprecationWarning: The class `HuggingFaceEmbeddings` was deprecated in LangChain 0.2.2 and will be removed in 1.0. An updated version of the class exists in the langchain-huggingface package and should be used instead. To use it run `pip install -U langchain-huggingface` and import as `from langchain_huggingface import HuggingFaceEmbeddings`.\n",
      "  embeddings    = HuggingFaceEmbeddings(model_name=self.processing_config.embedding_model)\n",
      "c:\\Users\\Asus\\anaconda3\\envs\\llm_env\\lib\\site-packages\\sentence_transformers\\cross_encoder\\CrossEncoder.py:11: TqdmWarning: IProgress not found. Please update jupyter and ipywidgets. See https://ipywidgets.readthedocs.io/en/stable/user_install.html\n",
      "  from tqdm.autonotebook import tqdm, trange\n"
     ]
    },
    {
     "name": "stdout",
     "output_type": "stream",
     "text": [
      "[2024-09-10 13:12:51,760: INFO: SentenceTransformer: Use pytorch device_name: cuda]\n",
      "[2024-09-10 13:12:51,760: INFO: SentenceTransformer: Load pretrained SentenceTransformer: sentence-transformers/all-MiniLM-L6-v2]\n"
     ]
    },
    {
     "name": "stderr",
     "output_type": "stream",
     "text": [
      "c:\\Users\\Asus\\anaconda3\\envs\\llm_env\\lib\\site-packages\\transformers\\tokenization_utils_base.py:1601: FutureWarning: `clean_up_tokenization_spaces` was not set. It will be set to `True` by default. This behavior will be depracted in transformers v4.45, and will be then set to `False` by default. For more details check this issue: https://github.com/huggingface/transformers/issues/31884\n",
      "  warnings.warn(\n"
     ]
    },
    {
     "name": "stdout",
     "output_type": "stream",
     "text": [
      "[2024-09-10 13:12:56,836: INFO: 4210093409: ----Embedding model----sentence-transformers/all-MiniLM-L6-v2----setup successfully completed]\n",
      "[2024-09-10 13:12:56,853: INFO: common: json file loaded succesfully from: artifacts/data/few_shots.json]\n",
      "[2024-09-10 13:12:56,853: INFO: 4210093409: ----loaded few_shot-data from----artifacts/data/few_shots.json----]\n",
      "[2024-09-10 13:12:56,853: INFO: common: json file loaded succesfully from: artifacts/data/few_shots.json]\n",
      "[2024-09-10 13:12:57,882: INFO: posthog: Anonymized telemetry enabled. See                     https://docs.trychroma.com/telemetry for more information.]\n",
      "[2024-09-10 13:12:58,606: INFO: 4210093409: ----successfully completed vectorstore----]\n"
     ]
    },
    {
     "name": "stderr",
     "output_type": "stream",
     "text": [
      "c:\\Users\\Asus\\anaconda3\\envs\\llm_env\\lib\\site-packages\\transformers\\models\\bert\\modeling_bert.py:439: UserWarning: 1Torch was not compiled with flash attention. (Triggered internally at C:\\cb\\pytorch_1000000000000\\work\\aten\\src\\ATen\\native\\transformers\\cuda\\sdp_utils.cpp:263.)\n",
      "  attn_output = torch.nn.functional.scaled_dot_product_attention(\n"
     ]
    }
   ],
   "source": [
    "try:\n",
    "    manager                 = ConfigurationManager()\n",
    "    model_config            = manager.get_database_and_model_config()\n",
    "    data_processing_config  = manager.get_data_processing_config()\n",
    "    data_processing         = DataProcessing(processing_config  = data_processing_config,\n",
    "                                             model_config       = model_config)\n",
    "    data_processing.data_processing()\n",
    "    example_selector        = data_processing.sematic_similarity_example_selector()\n",
    "\n",
    "except Exception as e:\n",
    "    raise e"
   ]
  },
  {
   "cell_type": "code",
   "execution_count": 15,
   "metadata": {},
   "outputs": [
    {
     "data": {
      "text/plain": [
       "[{'Answer': \"City of Angels,It's a Wonderful Life,Dogma,The Prophecy,Frailty,Legion,The Mortal Instruments: City of Bones,The Christmas Candle\",\n",
       "  'Question': 'Look for the movie title with the keyword of \"angel\". ==>> keyword of \"angel\" refers to keyword_name = \\'angel\\'',\n",
       "  'SQLQuery': \"SELECT T1.title FROM movie AS T1 INNER JOIN movie_keywords AS T2 ON T1.movie_id = T2.movie_id INNER JOIN keyword AS T3 ON T2.keyword_id = T3.keyword_id WHERE T3.keyword_name = 'angel'\",\n",
       "  'SQLResult': 'Result of the SQL query'},\n",
       " {'Answer': 'Michael Bay',\n",
       "  'Question': \"Who is the director for the movie 'Transformers?' ==>> the director refers to person_name where job = 'Director'; movie 'Transformers' refers to title = 'Transformers'\",\n",
       "  'SQLQuery': \"SELECT T3.person_name FROM movie AS T1 INNER JOIN movie_crew AS T2 ON T1.movie_id = T2.movie_id INNER JOIN person AS T3 ON T2.person_id = T3.person_id WHERE T1.title = 'Transformers' AND T2.job = 'Director'\",\n",
       "  'SQLResult': 'Result of the SQL query'}]"
      ]
     },
     "execution_count": 15,
     "metadata": {},
     "output_type": "execute_result"
    }
   ],
   "source": [
    "example_selector.select_examples({'question': \"What are the genres of Sky Captain \",})"
   ]
  },
  {
   "cell_type": "code",
   "execution_count": null,
   "metadata": {},
   "outputs": [],
   "source": []
  },
  {
   "cell_type": "code",
   "execution_count": null,
   "metadata": {},
   "outputs": [],
   "source": []
  },
  {
   "cell_type": "code",
   "execution_count": null,
   "metadata": {},
   "outputs": [],
   "source": []
  }
 ],
 "metadata": {
  "kernelspec": {
   "display_name": "llm_env",
   "language": "python",
   "name": "python3"
  },
  "language_info": {
   "codemirror_mode": {
    "name": "ipython",
    "version": 3
   },
   "file_extension": ".py",
   "mimetype": "text/x-python",
   "name": "python",
   "nbconvert_exporter": "python",
   "pygments_lexer": "ipython3",
   "version": "3.9.19"
  }
 },
 "nbformat": 4,
 "nbformat_minor": 2
}
