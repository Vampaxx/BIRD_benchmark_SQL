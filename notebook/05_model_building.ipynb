{
 "cells": [
  {
   "cell_type": "code",
   "execution_count": 1,
   "metadata": {},
   "outputs": [],
   "source": [
    "import io\n",
    "import os\n",
    "import random\n",
    "from pathlib import Path"
   ]
  },
  {
   "cell_type": "code",
   "execution_count": 2,
   "metadata": {},
   "outputs": [
    {
     "data": {
      "text/plain": [
       "'c:\\\\Users\\\\Asus\\\\Machine_learning\\\\LLM\\\\Projects\\\\BIRD_benchmark_SQL\\\\notebook'"
      ]
     },
     "execution_count": 2,
     "metadata": {},
     "output_type": "execute_result"
    }
   ],
   "source": [
    "%pwd"
   ]
  },
  {
   "cell_type": "code",
   "execution_count": 3,
   "metadata": {},
   "outputs": [],
   "source": [
    "os.chdir(\"../\")"
   ]
  },
  {
   "cell_type": "code",
   "execution_count": 4,
   "metadata": {},
   "outputs": [
    {
     "data": {
      "text/plain": [
       "'c:\\\\Users\\\\Asus\\\\Machine_learning\\\\LLM\\\\Projects\\\\BIRD_benchmark_SQL'"
      ]
     },
     "execution_count": 4,
     "metadata": {},
     "output_type": "execute_result"
    }
   ],
   "source": [
    "%pwd"
   ]
  },
  {
   "cell_type": "code",
   "execution_count": 5,
   "metadata": {},
   "outputs": [],
   "source": [
    "import os\n",
    "from Bird_bench_SQL import logger"
   ]
  },
  {
   "cell_type": "code",
   "execution_count": 6,
   "metadata": {},
   "outputs": [],
   "source": [
    "from pathlib import Path\n",
    "from typing import Optional\n",
    "from dataclasses import dataclass"
   ]
  },
  {
   "cell_type": "code",
   "execution_count": 10,
   "metadata": {},
   "outputs": [],
   "source": [
    "@dataclass(frozen=True)\n",
    "class ModelBuildingConfig:\n",
    "    SQLite_prompt_path  : Path\n",
    "    few_shots_path      : Path"
   ]
  },
  {
   "cell_type": "code",
   "execution_count": 13,
   "metadata": {},
   "outputs": [],
   "source": [
    "from dotenv import load_dotenv\n",
    "from Bird_bench_SQL.constants import *\n",
    "from Bird_bench_SQL.utils.common import read_yaml,create_directories\n",
    "from Bird_bench_SQL.entity.config_entity import Da\n",
    "from Bird_bench_SQL.config.configuration import ConfigurationManager"
   ]
  },
  {
   "cell_type": "code",
   "execution_count": 14,
   "metadata": {},
   "outputs": [],
   "source": [
    "from Bird_bench_SQL.entity.config_entity import DatabaseAndModelConfig"
   ]
  },
  {
   "cell_type": "code",
   "execution_count": null,
   "metadata": {},
   "outputs": [],
   "source": [
    "class ConfigurationManager:\n",
    "    def __init__(self,\n",
    "                 config_filepath    = CONFIG_FILE_PATH,\n",
    "                 params_filepath    = PARAMS_FILE_PATH):\n",
    "        \n",
    "        self.config = read_yaml(config_filepath)\n",
    "        self.params = read_yaml(params_filepath)\n",
    "        create_directories([self.config.artifacts_root])\n",
    "\n",
    "    def get_database_and_model_config(self) -> DatabaseAndModelConfig:\n",
    "        config = self.config.database_and_model\n",
    "        params = self.params \n",
    "        \n",
    "        logger.info('Database and model config initialized')\n",
    "        load_dotenv()\n",
    "        data_procesing_config = DatabaseAndModelConfig(SQLite_database_path = config.database_path,\n",
    "                                                       Model_name           = params.MODEL_NAME,\n",
    "                                                       temperature          = params.TEMPERATURE,\n",
    "                                                       api_key              = os.getenv(\"GROQ_API_KEY\")) \n",
    "        logger.info(\"database and model config finished\") \n",
    "        return data_procesing_config    \n",
    "    \n",
    "        \n",
    "\n",
    "    def get_data_processing_config(self) -> DataProcessingConfig:\n",
    "        config =  self.config.data_processing\n",
    "        params = self.params \n",
    "        logger.info('Data preprocessing config initialized')\n",
    "        data_procesing_config = DataProcessingConfig(data_file_path     = config.data_file_path,\n",
    "                                                     train_file_path    = config.train_file_path,\n",
    "                                                     test_file_path     = config.test_file_path,\n",
    "                                                     few_shot_file_path = config.few_shots_path,\n",
    "                                                     few_shot_file_size = params.FEW_SHOTS_SIZE,\n",
    "                                                     db_id_name         = params.db_id,\n",
    "                                                     k                  = params.K,\n",
    "                                                     embedding_model    = params.EMBEDDING_MDOEL\n",
    "                                                     )\n",
    "        logger.info('Data preprocessing config finished')\n",
    "        return data_procesing_config        \n"
   ]
  },
  {
   "cell_type": "code",
   "execution_count": null,
   "metadata": {},
   "outputs": [],
   "source": []
  }
 ],
 "metadata": {
  "kernelspec": {
   "display_name": "llm_env",
   "language": "python",
   "name": "python3"
  },
  "language_info": {
   "codemirror_mode": {
    "name": "ipython",
    "version": 3
   },
   "file_extension": ".py",
   "mimetype": "text/x-python",
   "name": "python",
   "nbconvert_exporter": "python",
   "pygments_lexer": "ipython3",
   "version": "3.9.19"
  }
 },
 "nbformat": 4,
 "nbformat_minor": 2
}
